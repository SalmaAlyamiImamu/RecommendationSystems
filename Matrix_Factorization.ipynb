{
  "nbformat": 4,
  "nbformat_minor": 0,
  "metadata": {
    "colab": {
      "provenance": []
    },
    "kernelspec": {
      "name": "python3",
      "display_name": "Python 3"
    },
    "language_info": {
      "name": "python"
    }
  },
  "cells": [
    {
      "cell_type": "code",
      "execution_count": 9,
      "metadata": {
        "id": "b3Db3kvtffTv"
      },
      "outputs": [],
      "source": [
        "import pandas as pd\n",
        "import numpy as np\n",
        "import re\n",
        "from sklearn.decomposition import NMF\n",
        "from sklearn.metrics import mean_squared_error\n",
        "from sklearn.metrics import mean_absolute_error"
      ]
    },
    {
      "cell_type": "code",
      "source": [
        "import pandas as pd\n",
        "df = pd.read_csv('Final_Dataset.txt', index_col=0)\n",
        "#df = df[['user_id_maped','duration_seconds','program_class','program_genre','series_title', 'hd','original_name']]"
      ],
      "metadata": {
        "id": "ICGoZUIZfszQ"
      },
      "execution_count": 8,
      "outputs": []
    },
    {
      "cell_type": "code",
      "source": [
        "len(df)"
      ],
      "metadata": {
        "colab": {
          "base_uri": "https://localhost:8080/"
        },
        "id": "QvzX5Zb1I1Us",
        "outputId": "59c44b5c-94ca-46ff-9393-26a47af3fccf"
      },
      "execution_count": 10,
      "outputs": [
        {
          "output_type": "execute_result",
          "data": {
            "text/plain": [
              "3598607"
            ]
          },
          "metadata": {},
          "execution_count": 10
        }
      ]
    },
    {
      "cell_type": "code",
      "source": [
        "def standardize_text(input_text):\n",
        "    clean_text = re.sub('[^A-Za-z0-9]+', '', str(input_text))\n",
        "    return clean_text\n",
        "df['standardize_original_name'] = df['original_name'].apply(lambda x: standardize_text(x))"
      ],
      "metadata": {
        "id": "KZDsPsdFftno"
      },
      "execution_count": 11,
      "outputs": []
    },
    {
      "cell_type": "code",
      "source": [
        "#df = df.groupby(['user_id_maped','series_title','standardize_original_name'], as_index=False)['duration_seconds'].sum()\n",
        "#df = df.groupby(['user_id_maped','season','standardize_original_name'], as_index=False)['duration_seconds'].sum()\n",
        "#df = df.groupby(['user_id_maped','episode','standardize_original_name'], as_index=False)['duration_seconds'].sum()\n",
        "df = df.groupby(['user_id_maped','program_class','program_genre','series_title', 'hd','standardize_original_name'], as_index=False)['duration_seconds'].sum()"
      ],
      "metadata": {
        "id": "A42nlFihf0bh"
      },
      "execution_count": 12,
      "outputs": []
    },
    {
      "cell_type": "code",
      "source": [
        "len(df)"
      ],
      "metadata": {
        "colab": {
          "base_uri": "https://localhost:8080/"
        },
        "id": "YiYKEwMLJXS_",
        "outputId": "8238884e-15ae-43bd-99c3-41b62725d0f4"
      },
      "execution_count": 13,
      "outputs": [
        {
          "output_type": "execute_result",
          "data": {
            "text/plain": [
              "714700"
            ]
          },
          "metadata": {},
          "execution_count": 13
        }
      ]
    },
    {
      "cell_type": "code",
      "source": [
        "df = df.copy()\n",
        "#df['duration_seconds_cap'] = np.where(df.duration_seconds>=(60*60*3), (60*60*3), df.duration_seconds)\n",
        "df['duration_seconds_cap'] = np.where(df.duration_seconds>=(60*60*1), (60*60*1), df.duration_seconds)\n",
        "df = df.copy()\n",
        "#IMDB actual durations from others APIs, but because we don't have actual movies IDs we will rely on max observed duration\n",
        "df['max_duration'] = df.groupby('standardize_original_name')['duration_seconds_cap'].transform(lambda x: x.max())\n",
        "df['rating'] = df['duration_seconds_cap']*1.0/df['max_duration']"
      ],
      "metadata": {
        "id": "Utz6tZxpf-eU"
      },
      "execution_count": 15,
      "outputs": []
    },
    {
      "cell_type": "code",
      "source": [
        "name_to_idx = {mid: idx for idx, mid in enumerate(df['standardize_original_name'].unique())}\n",
        "df['movie_id'] = df['standardize_original_name'].map(name_to_idx) #if it's matched with the API will add more features"
      ],
      "metadata": {
        "id": "g82tZyCAgFys"
      },
      "execution_count": 16,
      "outputs": []
    },
    {
      "cell_type": "code",
      "source": [
        "#Adjust Undefined Genre according to IMDb \n",
        "df.loc[ df['standardize_original_name'] == 'Dunkirk', 'program_genre'] = 'Action'\n",
        "df.loc[ df['standardize_original_name'] == 'Friends', 'program_genre'] = 'Comedy'\n",
        "df.loc[ df['standardize_original_name'] == 'Harry', 'program_genre'] = 'Crime'\n",
        "df.loc[ df['standardize_original_name'] == 'SehheeWaaree', 'program_genre'] = 'Others'\n",
        "df.loc[ df['standardize_original_name'] == 'BatmanUnlimitedAnimalInstinctsforViewing', 'program_genre'] = 'Animation'"
      ],
      "metadata": {
        "id": "BI-SAGlbcB3s"
      },
      "execution_count": 36,
      "outputs": []
    },
    {
      "cell_type": "code",
      "source": [
        "df.program_genre.unique()"
      ],
      "metadata": {
        "colab": {
          "base_uri": "https://localhost:8080/"
        },
        "id": "WvEILGQEcRCP",
        "outputId": "02a5f10d-77d9-467a-d06e-649b42895c83"
      },
      "execution_count": 37,
      "outputs": [
        {
          "output_type": "execute_result",
          "data": {
            "text/plain": [
              "array(['Action', 'Animation', 'Comedy', 'Family', 'Horror', 'Documentary',\n",
              "       'Drama', 'Biography', 'Thriller', 'Romance', 'Crime', 'Adventure',\n",
              "       'Sci-Fi', 'Others', 'Wrestling'], dtype=object)"
            ]
          },
          "metadata": {},
          "execution_count": 37
        }
      ]
    },
    {
      "cell_type": "code",
      "source": [
        "#df = df[df.rating > 0]\n",
        "#x = df.loc[df.rating > 0]\n",
        "#len(x)"
      ],
      "metadata": {
        "id": "J1OwQVZyJFPg"
      },
      "execution_count": null,
      "outputs": []
    },
    {
      "cell_type": "code",
      "source": [
        "#df.shape[0]/(len(df.user_id_maped.unique())*len(df.movie_id.unique()))"
      ],
      "metadata": {
        "id": "dJlSiT3MgoSs"
      },
      "execution_count": null,
      "outputs": []
    },
    {
      "cell_type": "code",
      "source": [
        "train = df.sample(frac=0.8,random_state=5) \n",
        "test = df.drop(train.index)\n",
        "\n",
        "#thesis analysis \n",
        "test = test.loc[test.movie_id.isin(train.movie_id.unique())]\n",
        "test = test.loc[test.user_id_maped.isin(train.user_id_maped.unique())]\n",
        "test.reset_index(drop=True, inplace=True)"
      ],
      "metadata": {
        "id": "Ik0x_EjXgwZ2"
      },
      "execution_count": 17,
      "outputs": []
    },
    {
      "cell_type": "code",
      "source": [
        "#train.to_csv('train.csv', index=False)\n",
        "#test.to_csv('test.csv', index=False)\n",
        "#df.to_csv('df.csv', index= False)"
      ],
      "metadata": {
        "id": "jbx99PLdhVkZ"
      },
      "execution_count": null,
      "outputs": []
    },
    {
      "cell_type": "code",
      "source": [
        "#Binary Test"
      ],
      "metadata": {
        "id": "F7mtl3p7h0l0"
      },
      "execution_count": null,
      "outputs": []
    },
    {
      "cell_type": "code",
      "source": [
        "#binary\n",
        "R_Binary = pd.pivot_table(train, values='rating', index='user_id_maped', columns='movie_id', aggfunc='count', fill_value=0)"
      ],
      "metadata": {
        "id": "sy72WfewhZmh"
      },
      "execution_count": 19,
      "outputs": []
    },
    {
      "cell_type": "code",
      "source": [
        "R_Binary"
      ],
      "metadata": {
        "colab": {
          "base_uri": "https://localhost:8080/",
          "height": 455
        },
        "id": "fsltnPByI_RB",
        "outputId": "83cc7fc9-33b9-4669-b444-501f3982d36c"
      },
      "execution_count": 20,
      "outputs": [
        {
          "output_type": "execute_result",
          "data": {
            "text/plain": [
              "movie_id       0     1     2     3     4     5     6     7     8     9     \\\n",
              "user_id_maped                                                               \n",
              "1                 1     1     1     1     1     1     0     0     0     0   \n",
              "2                 0     0     0     0     0     0     1     1     0     0   \n",
              "3                 0     0     0     0     0     0     0     0     1     0   \n",
              "4                 0     0     1     0     0     0     0     0     0     0   \n",
              "5                 0     0     0     0     0     1     0     0     0     0   \n",
              "...             ...   ...   ...   ...   ...   ...   ...   ...   ...   ...   \n",
              "34279             0     0     0     0     1     0     0     0     0     1   \n",
              "34280             0     0     0     0     0     0     0     0     0     0   \n",
              "34281             0     0     0     0     0     0     0     0     0     0   \n",
              "34282             0     0     0     1     0     0     0     0     0     0   \n",
              "34283             0     0     0     0     0     0     0     0     0     0   \n",
              "\n",
              "movie_id       ...  1783  1784  1785  1787  1788  1789  1790  1791  1792  1793  \n",
              "user_id_maped  ...                                                              \n",
              "1              ...     0     0     0     0     0     0     0     0     0     0  \n",
              "2              ...     0     0     0     0     0     0     0     0     0     0  \n",
              "3              ...     0     0     0     0     0     0     0     0     0     0  \n",
              "4              ...     0     0     0     0     0     0     0     0     0     0  \n",
              "5              ...     0     0     0     0     0     0     0     0     0     0  \n",
              "...            ...   ...   ...   ...   ...   ...   ...   ...   ...   ...   ...  \n",
              "34279          ...     0     0     0     0     0     0     0     0     0     0  \n",
              "34280          ...     0     0     0     0     0     0     0     0     0     0  \n",
              "34281          ...     0     0     0     0     0     0     0     0     0     0  \n",
              "34282          ...     0     0     0     0     0     0     0     0     0     0  \n",
              "34283          ...     0     0     0     0     0     0     0     0     0     0  \n",
              "\n",
              "[28243 rows x 1791 columns]"
            ],
            "text/html": [
              "\n",
              "  <div id=\"df-02680875-09a8-459d-972e-68ce92e05234\">\n",
              "    <div class=\"colab-df-container\">\n",
              "      <div>\n",
              "<style scoped>\n",
              "    .dataframe tbody tr th:only-of-type {\n",
              "        vertical-align: middle;\n",
              "    }\n",
              "\n",
              "    .dataframe tbody tr th {\n",
              "        vertical-align: top;\n",
              "    }\n",
              "\n",
              "    .dataframe thead th {\n",
              "        text-align: right;\n",
              "    }\n",
              "</style>\n",
              "<table border=\"1\" class=\"dataframe\">\n",
              "  <thead>\n",
              "    <tr style=\"text-align: right;\">\n",
              "      <th>movie_id</th>\n",
              "      <th>0</th>\n",
              "      <th>1</th>\n",
              "      <th>2</th>\n",
              "      <th>3</th>\n",
              "      <th>4</th>\n",
              "      <th>5</th>\n",
              "      <th>6</th>\n",
              "      <th>7</th>\n",
              "      <th>8</th>\n",
              "      <th>9</th>\n",
              "      <th>...</th>\n",
              "      <th>1783</th>\n",
              "      <th>1784</th>\n",
              "      <th>1785</th>\n",
              "      <th>1787</th>\n",
              "      <th>1788</th>\n",
              "      <th>1789</th>\n",
              "      <th>1790</th>\n",
              "      <th>1791</th>\n",
              "      <th>1792</th>\n",
              "      <th>1793</th>\n",
              "    </tr>\n",
              "    <tr>\n",
              "      <th>user_id_maped</th>\n",
              "      <th></th>\n",
              "      <th></th>\n",
              "      <th></th>\n",
              "      <th></th>\n",
              "      <th></th>\n",
              "      <th></th>\n",
              "      <th></th>\n",
              "      <th></th>\n",
              "      <th></th>\n",
              "      <th></th>\n",
              "      <th></th>\n",
              "      <th></th>\n",
              "      <th></th>\n",
              "      <th></th>\n",
              "      <th></th>\n",
              "      <th></th>\n",
              "      <th></th>\n",
              "      <th></th>\n",
              "      <th></th>\n",
              "      <th></th>\n",
              "      <th></th>\n",
              "    </tr>\n",
              "  </thead>\n",
              "  <tbody>\n",
              "    <tr>\n",
              "      <th>1</th>\n",
              "      <td>1</td>\n",
              "      <td>1</td>\n",
              "      <td>1</td>\n",
              "      <td>1</td>\n",
              "      <td>1</td>\n",
              "      <td>1</td>\n",
              "      <td>0</td>\n",
              "      <td>0</td>\n",
              "      <td>0</td>\n",
              "      <td>0</td>\n",
              "      <td>...</td>\n",
              "      <td>0</td>\n",
              "      <td>0</td>\n",
              "      <td>0</td>\n",
              "      <td>0</td>\n",
              "      <td>0</td>\n",
              "      <td>0</td>\n",
              "      <td>0</td>\n",
              "      <td>0</td>\n",
              "      <td>0</td>\n",
              "      <td>0</td>\n",
              "    </tr>\n",
              "    <tr>\n",
              "      <th>2</th>\n",
              "      <td>0</td>\n",
              "      <td>0</td>\n",
              "      <td>0</td>\n",
              "      <td>0</td>\n",
              "      <td>0</td>\n",
              "      <td>0</td>\n",
              "      <td>1</td>\n",
              "      <td>1</td>\n",
              "      <td>0</td>\n",
              "      <td>0</td>\n",
              "      <td>...</td>\n",
              "      <td>0</td>\n",
              "      <td>0</td>\n",
              "      <td>0</td>\n",
              "      <td>0</td>\n",
              "      <td>0</td>\n",
              "      <td>0</td>\n",
              "      <td>0</td>\n",
              "      <td>0</td>\n",
              "      <td>0</td>\n",
              "      <td>0</td>\n",
              "    </tr>\n",
              "    <tr>\n",
              "      <th>3</th>\n",
              "      <td>0</td>\n",
              "      <td>0</td>\n",
              "      <td>0</td>\n",
              "      <td>0</td>\n",
              "      <td>0</td>\n",
              "      <td>0</td>\n",
              "      <td>0</td>\n",
              "      <td>0</td>\n",
              "      <td>1</td>\n",
              "      <td>0</td>\n",
              "      <td>...</td>\n",
              "      <td>0</td>\n",
              "      <td>0</td>\n",
              "      <td>0</td>\n",
              "      <td>0</td>\n",
              "      <td>0</td>\n",
              "      <td>0</td>\n",
              "      <td>0</td>\n",
              "      <td>0</td>\n",
              "      <td>0</td>\n",
              "      <td>0</td>\n",
              "    </tr>\n",
              "    <tr>\n",
              "      <th>4</th>\n",
              "      <td>0</td>\n",
              "      <td>0</td>\n",
              "      <td>1</td>\n",
              "      <td>0</td>\n",
              "      <td>0</td>\n",
              "      <td>0</td>\n",
              "      <td>0</td>\n",
              "      <td>0</td>\n",
              "      <td>0</td>\n",
              "      <td>0</td>\n",
              "      <td>...</td>\n",
              "      <td>0</td>\n",
              "      <td>0</td>\n",
              "      <td>0</td>\n",
              "      <td>0</td>\n",
              "      <td>0</td>\n",
              "      <td>0</td>\n",
              "      <td>0</td>\n",
              "      <td>0</td>\n",
              "      <td>0</td>\n",
              "      <td>0</td>\n",
              "    </tr>\n",
              "    <tr>\n",
              "      <th>5</th>\n",
              "      <td>0</td>\n",
              "      <td>0</td>\n",
              "      <td>0</td>\n",
              "      <td>0</td>\n",
              "      <td>0</td>\n",
              "      <td>1</td>\n",
              "      <td>0</td>\n",
              "      <td>0</td>\n",
              "      <td>0</td>\n",
              "      <td>0</td>\n",
              "      <td>...</td>\n",
              "      <td>0</td>\n",
              "      <td>0</td>\n",
              "      <td>0</td>\n",
              "      <td>0</td>\n",
              "      <td>0</td>\n",
              "      <td>0</td>\n",
              "      <td>0</td>\n",
              "      <td>0</td>\n",
              "      <td>0</td>\n",
              "      <td>0</td>\n",
              "    </tr>\n",
              "    <tr>\n",
              "      <th>...</th>\n",
              "      <td>...</td>\n",
              "      <td>...</td>\n",
              "      <td>...</td>\n",
              "      <td>...</td>\n",
              "      <td>...</td>\n",
              "      <td>...</td>\n",
              "      <td>...</td>\n",
              "      <td>...</td>\n",
              "      <td>...</td>\n",
              "      <td>...</td>\n",
              "      <td>...</td>\n",
              "      <td>...</td>\n",
              "      <td>...</td>\n",
              "      <td>...</td>\n",
              "      <td>...</td>\n",
              "      <td>...</td>\n",
              "      <td>...</td>\n",
              "      <td>...</td>\n",
              "      <td>...</td>\n",
              "      <td>...</td>\n",
              "      <td>...</td>\n",
              "    </tr>\n",
              "    <tr>\n",
              "      <th>34279</th>\n",
              "      <td>0</td>\n",
              "      <td>0</td>\n",
              "      <td>0</td>\n",
              "      <td>0</td>\n",
              "      <td>1</td>\n",
              "      <td>0</td>\n",
              "      <td>0</td>\n",
              "      <td>0</td>\n",
              "      <td>0</td>\n",
              "      <td>1</td>\n",
              "      <td>...</td>\n",
              "      <td>0</td>\n",
              "      <td>0</td>\n",
              "      <td>0</td>\n",
              "      <td>0</td>\n",
              "      <td>0</td>\n",
              "      <td>0</td>\n",
              "      <td>0</td>\n",
              "      <td>0</td>\n",
              "      <td>0</td>\n",
              "      <td>0</td>\n",
              "    </tr>\n",
              "    <tr>\n",
              "      <th>34280</th>\n",
              "      <td>0</td>\n",
              "      <td>0</td>\n",
              "      <td>0</td>\n",
              "      <td>0</td>\n",
              "      <td>0</td>\n",
              "      <td>0</td>\n",
              "      <td>0</td>\n",
              "      <td>0</td>\n",
              "      <td>0</td>\n",
              "      <td>0</td>\n",
              "      <td>...</td>\n",
              "      <td>0</td>\n",
              "      <td>0</td>\n",
              "      <td>0</td>\n",
              "      <td>0</td>\n",
              "      <td>0</td>\n",
              "      <td>0</td>\n",
              "      <td>0</td>\n",
              "      <td>0</td>\n",
              "      <td>0</td>\n",
              "      <td>0</td>\n",
              "    </tr>\n",
              "    <tr>\n",
              "      <th>34281</th>\n",
              "      <td>0</td>\n",
              "      <td>0</td>\n",
              "      <td>0</td>\n",
              "      <td>0</td>\n",
              "      <td>0</td>\n",
              "      <td>0</td>\n",
              "      <td>0</td>\n",
              "      <td>0</td>\n",
              "      <td>0</td>\n",
              "      <td>0</td>\n",
              "      <td>...</td>\n",
              "      <td>0</td>\n",
              "      <td>0</td>\n",
              "      <td>0</td>\n",
              "      <td>0</td>\n",
              "      <td>0</td>\n",
              "      <td>0</td>\n",
              "      <td>0</td>\n",
              "      <td>0</td>\n",
              "      <td>0</td>\n",
              "      <td>0</td>\n",
              "    </tr>\n",
              "    <tr>\n",
              "      <th>34282</th>\n",
              "      <td>0</td>\n",
              "      <td>0</td>\n",
              "      <td>0</td>\n",
              "      <td>1</td>\n",
              "      <td>0</td>\n",
              "      <td>0</td>\n",
              "      <td>0</td>\n",
              "      <td>0</td>\n",
              "      <td>0</td>\n",
              "      <td>0</td>\n",
              "      <td>...</td>\n",
              "      <td>0</td>\n",
              "      <td>0</td>\n",
              "      <td>0</td>\n",
              "      <td>0</td>\n",
              "      <td>0</td>\n",
              "      <td>0</td>\n",
              "      <td>0</td>\n",
              "      <td>0</td>\n",
              "      <td>0</td>\n",
              "      <td>0</td>\n",
              "    </tr>\n",
              "    <tr>\n",
              "      <th>34283</th>\n",
              "      <td>0</td>\n",
              "      <td>0</td>\n",
              "      <td>0</td>\n",
              "      <td>0</td>\n",
              "      <td>0</td>\n",
              "      <td>0</td>\n",
              "      <td>0</td>\n",
              "      <td>0</td>\n",
              "      <td>0</td>\n",
              "      <td>0</td>\n",
              "      <td>...</td>\n",
              "      <td>0</td>\n",
              "      <td>0</td>\n",
              "      <td>0</td>\n",
              "      <td>0</td>\n",
              "      <td>0</td>\n",
              "      <td>0</td>\n",
              "      <td>0</td>\n",
              "      <td>0</td>\n",
              "      <td>0</td>\n",
              "      <td>0</td>\n",
              "    </tr>\n",
              "  </tbody>\n",
              "</table>\n",
              "<p>28243 rows × 1791 columns</p>\n",
              "</div>\n",
              "      <button class=\"colab-df-convert\" onclick=\"convertToInteractive('df-02680875-09a8-459d-972e-68ce92e05234')\"\n",
              "              title=\"Convert this dataframe to an interactive table.\"\n",
              "              style=\"display:none;\">\n",
              "        \n",
              "  <svg xmlns=\"http://www.w3.org/2000/svg\" height=\"24px\"viewBox=\"0 0 24 24\"\n",
              "       width=\"24px\">\n",
              "    <path d=\"M0 0h24v24H0V0z\" fill=\"none\"/>\n",
              "    <path d=\"M18.56 5.44l.94 2.06.94-2.06 2.06-.94-2.06-.94-.94-2.06-.94 2.06-2.06.94zm-11 1L8.5 8.5l.94-2.06 2.06-.94-2.06-.94L8.5 2.5l-.94 2.06-2.06.94zm10 10l.94 2.06.94-2.06 2.06-.94-2.06-.94-.94-2.06-.94 2.06-2.06.94z\"/><path d=\"M17.41 7.96l-1.37-1.37c-.4-.4-.92-.59-1.43-.59-.52 0-1.04.2-1.43.59L10.3 9.45l-7.72 7.72c-.78.78-.78 2.05 0 2.83L4 21.41c.39.39.9.59 1.41.59.51 0 1.02-.2 1.41-.59l7.78-7.78 2.81-2.81c.8-.78.8-2.07 0-2.86zM5.41 20L4 18.59l7.72-7.72 1.47 1.35L5.41 20z\"/>\n",
              "  </svg>\n",
              "      </button>\n",
              "      \n",
              "  <style>\n",
              "    .colab-df-container {\n",
              "      display:flex;\n",
              "      flex-wrap:wrap;\n",
              "      gap: 12px;\n",
              "    }\n",
              "\n",
              "    .colab-df-convert {\n",
              "      background-color: #E8F0FE;\n",
              "      border: none;\n",
              "      border-radius: 50%;\n",
              "      cursor: pointer;\n",
              "      display: none;\n",
              "      fill: #1967D2;\n",
              "      height: 32px;\n",
              "      padding: 0 0 0 0;\n",
              "      width: 32px;\n",
              "    }\n",
              "\n",
              "    .colab-df-convert:hover {\n",
              "      background-color: #E2EBFA;\n",
              "      box-shadow: 0px 1px 2px rgba(60, 64, 67, 0.3), 0px 1px 3px 1px rgba(60, 64, 67, 0.15);\n",
              "      fill: #174EA6;\n",
              "    }\n",
              "\n",
              "    [theme=dark] .colab-df-convert {\n",
              "      background-color: #3B4455;\n",
              "      fill: #D2E3FC;\n",
              "    }\n",
              "\n",
              "    [theme=dark] .colab-df-convert:hover {\n",
              "      background-color: #434B5C;\n",
              "      box-shadow: 0px 1px 3px 1px rgba(0, 0, 0, 0.15);\n",
              "      filter: drop-shadow(0px 1px 2px rgba(0, 0, 0, 0.3));\n",
              "      fill: #FFFFFF;\n",
              "    }\n",
              "  </style>\n",
              "\n",
              "      <script>\n",
              "        const buttonEl =\n",
              "          document.querySelector('#df-02680875-09a8-459d-972e-68ce92e05234 button.colab-df-convert');\n",
              "        buttonEl.style.display =\n",
              "          google.colab.kernel.accessAllowed ? 'block' : 'none';\n",
              "\n",
              "        async function convertToInteractive(key) {\n",
              "          const element = document.querySelector('#df-02680875-09a8-459d-972e-68ce92e05234');\n",
              "          const dataTable =\n",
              "            await google.colab.kernel.invokeFunction('convertToInteractive',\n",
              "                                                     [key], {});\n",
              "          if (!dataTable) return;\n",
              "\n",
              "          const docLinkHtml = 'Like what you see? Visit the ' +\n",
              "            '<a target=\"_blank\" href=https://colab.research.google.com/notebooks/data_table.ipynb>data table notebook</a>'\n",
              "            + ' to learn more about interactive tables.';\n",
              "          element.innerHTML = '';\n",
              "          dataTable['output_type'] = 'display_data';\n",
              "          await google.colab.output.renderOutput(dataTable, element);\n",
              "          const docLink = document.createElement('div');\n",
              "          docLink.innerHTML = docLinkHtml;\n",
              "          element.appendChild(docLink);\n",
              "        }\n",
              "      </script>\n",
              "    </div>\n",
              "  </div>\n",
              "  "
            ]
          },
          "metadata": {},
          "execution_count": 20
        }
      ]
    },
    {
      "cell_type": "code",
      "source": [
        "#len(train.user_id_maped.unique())"
      ],
      "metadata": {
        "colab": {
          "base_uri": "https://localhost:8080/"
        },
        "id": "uNEhcUihrdp7",
        "outputId": "45c17805-e9f8-43df-a875-48f07c8d8f42"
      },
      "execution_count": null,
      "outputs": [
        {
          "output_type": "execute_result",
          "data": {
            "text/plain": [
              "28243"
            ]
          },
          "metadata": {},
          "execution_count": 35
        }
      ]
    },
    {
      "cell_type": "code",
      "source": [
        "model_train = NMF(n_components=10, random_state=5) \n",
        "\n",
        "model_train.fit(R_Binary.values)\n",
        "nmf_features_train = model_train.transform(R_Binary.values)"
      ],
      "metadata": {
        "id": "H0c7ypxifMOj"
      },
      "execution_count": 21,
      "outputs": []
    },
    {
      "cell_type": "code",
      "source": [
        "#multiplication\n",
        "matrix_mult_train = np.matmul(nmf_features_train, model_train.components_)"
      ],
      "metadata": {
        "id": "baRAbIgZsS4i"
      },
      "execution_count": 22,
      "outputs": []
    },
    {
      "cell_type": "code",
      "source": [
        "matrix_mult_train = pd.DataFrame(data=matrix_mult_train, index = R_Binary.index, columns = R_Binary.columns)\n",
        "melt_train_predictions = matrix_mult_train.reset_index().melt(id_vars=['user_id_maped'])"
      ],
      "metadata": {
        "id": "JCQg1bEai1tI"
      },
      "execution_count": 23,
      "outputs": []
    },
    {
      "cell_type": "code",
      "source": [
        "#actual_vs_predicted = pd.merge(melt_train_predictions, train[['user_id_maped', 'movie_id']], how='inner', on=['user_id_maped', 'movie_id'])\n",
        "\n",
        "actual_vs_predicted = pd.merge(melt_train_predictions, test[['user_id_maped', 'movie_id']], how='inner', on=['user_id_maped', 'movie_id'])\n",
        "actual_vs_predicted['rating'] = 1"
      ],
      "metadata": {
        "id": "dUEFSurZi2Qu"
      },
      "execution_count": 24,
      "outputs": []
    },
    {
      "cell_type": "code",
      "source": [
        "MSE = mean_squared_error(actual_vs_predicted.value, actual_vs_predicted.rating)\n",
        "RMSE_Binary = np.sqrt(MSE)\n",
        "MAE_Binary = mean_absolute_error(actual_vs_predicted.value, actual_vs_predicted.rating)"
      ],
      "metadata": {
        "id": "dFc12PWAi-s1"
      },
      "execution_count": 25,
      "outputs": []
    },
    {
      "cell_type": "code",
      "source": [
        "RMSE_Binary"
      ],
      "metadata": {
        "id": "Z1kosHRJjEr4",
        "colab": {
          "base_uri": "https://localhost:8080/"
        },
        "outputId": "e4229f74-9f27-409e-ca1d-33610218bc7d"
      },
      "execution_count": 26,
      "outputs": [
        {
          "output_type": "execute_result",
          "data": {
            "text/plain": [
              "0.7910443508862998"
            ]
          },
          "metadata": {},
          "execution_count": 26
        }
      ]
    },
    {
      "cell_type": "code",
      "source": [
        "MAE_Binary"
      ],
      "metadata": {
        "id": "uk-2pvdKjHH8",
        "colab": {
          "base_uri": "https://localhost:8080/"
        },
        "outputId": "ee8765a6-74d6-4211-ac2a-982a53d18998"
      },
      "execution_count": 27,
      "outputs": [
        {
          "output_type": "execute_result",
          "data": {
            "text/plain": [
              "0.760474482061099"
            ]
          },
          "metadata": {},
          "execution_count": 27
        }
      ]
    },
    {
      "cell_type": "code",
      "source": [
        "#rating test\n",
        "#rating test\n",
        "#rating test\n",
        "#rating test\n",
        "#rating test"
      ],
      "metadata": {
        "id": "USlvm_TAhU-Q"
      },
      "execution_count": null,
      "outputs": []
    },
    {
      "cell_type": "code",
      "source": [
        "R_Rating = pd.pivot_table(train, values='rating', index='user_id_maped', columns='movie_id', aggfunc='mean', fill_value=0)"
      ],
      "metadata": {
        "id": "B-ABMjQ7hfP8"
      },
      "execution_count": 28,
      "outputs": []
    },
    {
      "cell_type": "code",
      "source": [
        "R_Rating"
      ],
      "metadata": {
        "colab": {
          "base_uri": "https://localhost:8080/",
          "height": 519
        },
        "id": "c5_bsQ8Od4kQ",
        "outputId": "e6ab5929-6b01-4764-a494-7b215132df3f"
      },
      "execution_count": 38,
      "outputs": [
        {
          "output_type": "execute_result",
          "data": {
            "text/plain": [
              "movie_id       0         1         2         3         4         5     \\\n",
              "user_id_maped                                                           \n",
              "1               1.0  0.024167  0.000556  0.016389  0.024167  0.005556   \n",
              "2               0.0  0.000000  0.000000  0.000000  0.000000  0.000000   \n",
              "3               0.0  0.000000  0.000000  0.000000  0.000000  0.000000   \n",
              "4               0.0  0.000000  0.033333  0.000000  0.000000  0.000000   \n",
              "5               0.0  0.000000  0.000000  0.000000  0.000000  1.000000   \n",
              "...             ...       ...       ...       ...       ...       ...   \n",
              "34279           0.0  0.000000  0.000000  0.000000  0.016944  0.000000   \n",
              "34280           0.0  0.000000  0.000000  0.000000  0.000000  0.000000   \n",
              "34281           0.0  0.000000  0.000000  0.000000  0.000000  0.000000   \n",
              "34282           0.0  0.000000  0.000000  0.003611  0.000000  0.000000   \n",
              "34283           0.0  0.000000  0.000000  0.000000  0.000000  0.000000   \n",
              "\n",
              "movie_id           6         7       8         9     ...  1783  1784  1785  \\\n",
              "user_id_maped                                        ...                     \n",
              "1              0.000000  0.000000  0.0000  0.000000  ...   0.0     0     0   \n",
              "2              0.020833  0.016667  0.0000  0.000000  ...   0.0     0     0   \n",
              "3              0.000000  0.000000  0.0225  0.000000  ...   0.0     0     0   \n",
              "4              0.000000  0.000000  0.0000  0.000000  ...   0.0     0     0   \n",
              "5              0.000000  0.000000  0.0000  0.000000  ...   0.0     0     0   \n",
              "...                 ...       ...     ...       ...  ...   ...   ...   ...   \n",
              "34279          0.000000  0.000000  0.0000  0.005556  ...   0.0     0     0   \n",
              "34280          0.000000  0.000000  0.0000  0.000000  ...   0.0     0     0   \n",
              "34281          0.000000  0.000000  0.0000  0.000000  ...   0.0     0     0   \n",
              "34282          0.000000  0.000000  0.0000  0.000000  ...   0.0     0     0   \n",
              "34283          0.000000  0.000000  0.0000  0.000000  ...   0.0     0     0   \n",
              "\n",
              "movie_id       1787  1788  1789  1790  1791  1792  1793  \n",
              "user_id_maped                                            \n",
              "1                 0   0.0     0     0     0     0     0  \n",
              "2                 0   0.0     0     0     0     0     0  \n",
              "3                 0   0.0     0     0     0     0     0  \n",
              "4                 0   0.0     0     0     0     0     0  \n",
              "5                 0   0.0     0     0     0     0     0  \n",
              "...             ...   ...   ...   ...   ...   ...   ...  \n",
              "34279             0   0.0     0     0     0     0     0  \n",
              "34280             0   0.0     0     0     0     0     0  \n",
              "34281             0   0.0     0     0     0     0     0  \n",
              "34282             0   0.0     0     0     0     0     0  \n",
              "34283             0   0.0     0     0     0     0     0  \n",
              "\n",
              "[28243 rows x 1791 columns]"
            ],
            "text/html": [
              "\n",
              "  <div id=\"df-add2e6a5-5e72-4b52-9600-95bfc44772da\">\n",
              "    <div class=\"colab-df-container\">\n",
              "      <div>\n",
              "<style scoped>\n",
              "    .dataframe tbody tr th:only-of-type {\n",
              "        vertical-align: middle;\n",
              "    }\n",
              "\n",
              "    .dataframe tbody tr th {\n",
              "        vertical-align: top;\n",
              "    }\n",
              "\n",
              "    .dataframe thead th {\n",
              "        text-align: right;\n",
              "    }\n",
              "</style>\n",
              "<table border=\"1\" class=\"dataframe\">\n",
              "  <thead>\n",
              "    <tr style=\"text-align: right;\">\n",
              "      <th>movie_id</th>\n",
              "      <th>0</th>\n",
              "      <th>1</th>\n",
              "      <th>2</th>\n",
              "      <th>3</th>\n",
              "      <th>4</th>\n",
              "      <th>5</th>\n",
              "      <th>6</th>\n",
              "      <th>7</th>\n",
              "      <th>8</th>\n",
              "      <th>9</th>\n",
              "      <th>...</th>\n",
              "      <th>1783</th>\n",
              "      <th>1784</th>\n",
              "      <th>1785</th>\n",
              "      <th>1787</th>\n",
              "      <th>1788</th>\n",
              "      <th>1789</th>\n",
              "      <th>1790</th>\n",
              "      <th>1791</th>\n",
              "      <th>1792</th>\n",
              "      <th>1793</th>\n",
              "    </tr>\n",
              "    <tr>\n",
              "      <th>user_id_maped</th>\n",
              "      <th></th>\n",
              "      <th></th>\n",
              "      <th></th>\n",
              "      <th></th>\n",
              "      <th></th>\n",
              "      <th></th>\n",
              "      <th></th>\n",
              "      <th></th>\n",
              "      <th></th>\n",
              "      <th></th>\n",
              "      <th></th>\n",
              "      <th></th>\n",
              "      <th></th>\n",
              "      <th></th>\n",
              "      <th></th>\n",
              "      <th></th>\n",
              "      <th></th>\n",
              "      <th></th>\n",
              "      <th></th>\n",
              "      <th></th>\n",
              "      <th></th>\n",
              "    </tr>\n",
              "  </thead>\n",
              "  <tbody>\n",
              "    <tr>\n",
              "      <th>1</th>\n",
              "      <td>1.0</td>\n",
              "      <td>0.024167</td>\n",
              "      <td>0.000556</td>\n",
              "      <td>0.016389</td>\n",
              "      <td>0.024167</td>\n",
              "      <td>0.005556</td>\n",
              "      <td>0.000000</td>\n",
              "      <td>0.000000</td>\n",
              "      <td>0.0000</td>\n",
              "      <td>0.000000</td>\n",
              "      <td>...</td>\n",
              "      <td>0.0</td>\n",
              "      <td>0</td>\n",
              "      <td>0</td>\n",
              "      <td>0</td>\n",
              "      <td>0.0</td>\n",
              "      <td>0</td>\n",
              "      <td>0</td>\n",
              "      <td>0</td>\n",
              "      <td>0</td>\n",
              "      <td>0</td>\n",
              "    </tr>\n",
              "    <tr>\n",
              "      <th>2</th>\n",
              "      <td>0.0</td>\n",
              "      <td>0.000000</td>\n",
              "      <td>0.000000</td>\n",
              "      <td>0.000000</td>\n",
              "      <td>0.000000</td>\n",
              "      <td>0.000000</td>\n",
              "      <td>0.020833</td>\n",
              "      <td>0.016667</td>\n",
              "      <td>0.0000</td>\n",
              "      <td>0.000000</td>\n",
              "      <td>...</td>\n",
              "      <td>0.0</td>\n",
              "      <td>0</td>\n",
              "      <td>0</td>\n",
              "      <td>0</td>\n",
              "      <td>0.0</td>\n",
              "      <td>0</td>\n",
              "      <td>0</td>\n",
              "      <td>0</td>\n",
              "      <td>0</td>\n",
              "      <td>0</td>\n",
              "    </tr>\n",
              "    <tr>\n",
              "      <th>3</th>\n",
              "      <td>0.0</td>\n",
              "      <td>0.000000</td>\n",
              "      <td>0.000000</td>\n",
              "      <td>0.000000</td>\n",
              "      <td>0.000000</td>\n",
              "      <td>0.000000</td>\n",
              "      <td>0.000000</td>\n",
              "      <td>0.000000</td>\n",
              "      <td>0.0225</td>\n",
              "      <td>0.000000</td>\n",
              "      <td>...</td>\n",
              "      <td>0.0</td>\n",
              "      <td>0</td>\n",
              "      <td>0</td>\n",
              "      <td>0</td>\n",
              "      <td>0.0</td>\n",
              "      <td>0</td>\n",
              "      <td>0</td>\n",
              "      <td>0</td>\n",
              "      <td>0</td>\n",
              "      <td>0</td>\n",
              "    </tr>\n",
              "    <tr>\n",
              "      <th>4</th>\n",
              "      <td>0.0</td>\n",
              "      <td>0.000000</td>\n",
              "      <td>0.033333</td>\n",
              "      <td>0.000000</td>\n",
              "      <td>0.000000</td>\n",
              "      <td>0.000000</td>\n",
              "      <td>0.000000</td>\n",
              "      <td>0.000000</td>\n",
              "      <td>0.0000</td>\n",
              "      <td>0.000000</td>\n",
              "      <td>...</td>\n",
              "      <td>0.0</td>\n",
              "      <td>0</td>\n",
              "      <td>0</td>\n",
              "      <td>0</td>\n",
              "      <td>0.0</td>\n",
              "      <td>0</td>\n",
              "      <td>0</td>\n",
              "      <td>0</td>\n",
              "      <td>0</td>\n",
              "      <td>0</td>\n",
              "    </tr>\n",
              "    <tr>\n",
              "      <th>5</th>\n",
              "      <td>0.0</td>\n",
              "      <td>0.000000</td>\n",
              "      <td>0.000000</td>\n",
              "      <td>0.000000</td>\n",
              "      <td>0.000000</td>\n",
              "      <td>1.000000</td>\n",
              "      <td>0.000000</td>\n",
              "      <td>0.000000</td>\n",
              "      <td>0.0000</td>\n",
              "      <td>0.000000</td>\n",
              "      <td>...</td>\n",
              "      <td>0.0</td>\n",
              "      <td>0</td>\n",
              "      <td>0</td>\n",
              "      <td>0</td>\n",
              "      <td>0.0</td>\n",
              "      <td>0</td>\n",
              "      <td>0</td>\n",
              "      <td>0</td>\n",
              "      <td>0</td>\n",
              "      <td>0</td>\n",
              "    </tr>\n",
              "    <tr>\n",
              "      <th>...</th>\n",
              "      <td>...</td>\n",
              "      <td>...</td>\n",
              "      <td>...</td>\n",
              "      <td>...</td>\n",
              "      <td>...</td>\n",
              "      <td>...</td>\n",
              "      <td>...</td>\n",
              "      <td>...</td>\n",
              "      <td>...</td>\n",
              "      <td>...</td>\n",
              "      <td>...</td>\n",
              "      <td>...</td>\n",
              "      <td>...</td>\n",
              "      <td>...</td>\n",
              "      <td>...</td>\n",
              "      <td>...</td>\n",
              "      <td>...</td>\n",
              "      <td>...</td>\n",
              "      <td>...</td>\n",
              "      <td>...</td>\n",
              "      <td>...</td>\n",
              "    </tr>\n",
              "    <tr>\n",
              "      <th>34279</th>\n",
              "      <td>0.0</td>\n",
              "      <td>0.000000</td>\n",
              "      <td>0.000000</td>\n",
              "      <td>0.000000</td>\n",
              "      <td>0.016944</td>\n",
              "      <td>0.000000</td>\n",
              "      <td>0.000000</td>\n",
              "      <td>0.000000</td>\n",
              "      <td>0.0000</td>\n",
              "      <td>0.005556</td>\n",
              "      <td>...</td>\n",
              "      <td>0.0</td>\n",
              "      <td>0</td>\n",
              "      <td>0</td>\n",
              "      <td>0</td>\n",
              "      <td>0.0</td>\n",
              "      <td>0</td>\n",
              "      <td>0</td>\n",
              "      <td>0</td>\n",
              "      <td>0</td>\n",
              "      <td>0</td>\n",
              "    </tr>\n",
              "    <tr>\n",
              "      <th>34280</th>\n",
              "      <td>0.0</td>\n",
              "      <td>0.000000</td>\n",
              "      <td>0.000000</td>\n",
              "      <td>0.000000</td>\n",
              "      <td>0.000000</td>\n",
              "      <td>0.000000</td>\n",
              "      <td>0.000000</td>\n",
              "      <td>0.000000</td>\n",
              "      <td>0.0000</td>\n",
              "      <td>0.000000</td>\n",
              "      <td>...</td>\n",
              "      <td>0.0</td>\n",
              "      <td>0</td>\n",
              "      <td>0</td>\n",
              "      <td>0</td>\n",
              "      <td>0.0</td>\n",
              "      <td>0</td>\n",
              "      <td>0</td>\n",
              "      <td>0</td>\n",
              "      <td>0</td>\n",
              "      <td>0</td>\n",
              "    </tr>\n",
              "    <tr>\n",
              "      <th>34281</th>\n",
              "      <td>0.0</td>\n",
              "      <td>0.000000</td>\n",
              "      <td>0.000000</td>\n",
              "      <td>0.000000</td>\n",
              "      <td>0.000000</td>\n",
              "      <td>0.000000</td>\n",
              "      <td>0.000000</td>\n",
              "      <td>0.000000</td>\n",
              "      <td>0.0000</td>\n",
              "      <td>0.000000</td>\n",
              "      <td>...</td>\n",
              "      <td>0.0</td>\n",
              "      <td>0</td>\n",
              "      <td>0</td>\n",
              "      <td>0</td>\n",
              "      <td>0.0</td>\n",
              "      <td>0</td>\n",
              "      <td>0</td>\n",
              "      <td>0</td>\n",
              "      <td>0</td>\n",
              "      <td>0</td>\n",
              "    </tr>\n",
              "    <tr>\n",
              "      <th>34282</th>\n",
              "      <td>0.0</td>\n",
              "      <td>0.000000</td>\n",
              "      <td>0.000000</td>\n",
              "      <td>0.003611</td>\n",
              "      <td>0.000000</td>\n",
              "      <td>0.000000</td>\n",
              "      <td>0.000000</td>\n",
              "      <td>0.000000</td>\n",
              "      <td>0.0000</td>\n",
              "      <td>0.000000</td>\n",
              "      <td>...</td>\n",
              "      <td>0.0</td>\n",
              "      <td>0</td>\n",
              "      <td>0</td>\n",
              "      <td>0</td>\n",
              "      <td>0.0</td>\n",
              "      <td>0</td>\n",
              "      <td>0</td>\n",
              "      <td>0</td>\n",
              "      <td>0</td>\n",
              "      <td>0</td>\n",
              "    </tr>\n",
              "    <tr>\n",
              "      <th>34283</th>\n",
              "      <td>0.0</td>\n",
              "      <td>0.000000</td>\n",
              "      <td>0.000000</td>\n",
              "      <td>0.000000</td>\n",
              "      <td>0.000000</td>\n",
              "      <td>0.000000</td>\n",
              "      <td>0.000000</td>\n",
              "      <td>0.000000</td>\n",
              "      <td>0.0000</td>\n",
              "      <td>0.000000</td>\n",
              "      <td>...</td>\n",
              "      <td>0.0</td>\n",
              "      <td>0</td>\n",
              "      <td>0</td>\n",
              "      <td>0</td>\n",
              "      <td>0.0</td>\n",
              "      <td>0</td>\n",
              "      <td>0</td>\n",
              "      <td>0</td>\n",
              "      <td>0</td>\n",
              "      <td>0</td>\n",
              "    </tr>\n",
              "  </tbody>\n",
              "</table>\n",
              "<p>28243 rows × 1791 columns</p>\n",
              "</div>\n",
              "      <button class=\"colab-df-convert\" onclick=\"convertToInteractive('df-add2e6a5-5e72-4b52-9600-95bfc44772da')\"\n",
              "              title=\"Convert this dataframe to an interactive table.\"\n",
              "              style=\"display:none;\">\n",
              "        \n",
              "  <svg xmlns=\"http://www.w3.org/2000/svg\" height=\"24px\"viewBox=\"0 0 24 24\"\n",
              "       width=\"24px\">\n",
              "    <path d=\"M0 0h24v24H0V0z\" fill=\"none\"/>\n",
              "    <path d=\"M18.56 5.44l.94 2.06.94-2.06 2.06-.94-2.06-.94-.94-2.06-.94 2.06-2.06.94zm-11 1L8.5 8.5l.94-2.06 2.06-.94-2.06-.94L8.5 2.5l-.94 2.06-2.06.94zm10 10l.94 2.06.94-2.06 2.06-.94-2.06-.94-.94-2.06-.94 2.06-2.06.94z\"/><path d=\"M17.41 7.96l-1.37-1.37c-.4-.4-.92-.59-1.43-.59-.52 0-1.04.2-1.43.59L10.3 9.45l-7.72 7.72c-.78.78-.78 2.05 0 2.83L4 21.41c.39.39.9.59 1.41.59.51 0 1.02-.2 1.41-.59l7.78-7.78 2.81-2.81c.8-.78.8-2.07 0-2.86zM5.41 20L4 18.59l7.72-7.72 1.47 1.35L5.41 20z\"/>\n",
              "  </svg>\n",
              "      </button>\n",
              "      \n",
              "  <style>\n",
              "    .colab-df-container {\n",
              "      display:flex;\n",
              "      flex-wrap:wrap;\n",
              "      gap: 12px;\n",
              "    }\n",
              "\n",
              "    .colab-df-convert {\n",
              "      background-color: #E8F0FE;\n",
              "      border: none;\n",
              "      border-radius: 50%;\n",
              "      cursor: pointer;\n",
              "      display: none;\n",
              "      fill: #1967D2;\n",
              "      height: 32px;\n",
              "      padding: 0 0 0 0;\n",
              "      width: 32px;\n",
              "    }\n",
              "\n",
              "    .colab-df-convert:hover {\n",
              "      background-color: #E2EBFA;\n",
              "      box-shadow: 0px 1px 2px rgba(60, 64, 67, 0.3), 0px 1px 3px 1px rgba(60, 64, 67, 0.15);\n",
              "      fill: #174EA6;\n",
              "    }\n",
              "\n",
              "    [theme=dark] .colab-df-convert {\n",
              "      background-color: #3B4455;\n",
              "      fill: #D2E3FC;\n",
              "    }\n",
              "\n",
              "    [theme=dark] .colab-df-convert:hover {\n",
              "      background-color: #434B5C;\n",
              "      box-shadow: 0px 1px 3px 1px rgba(0, 0, 0, 0.15);\n",
              "      filter: drop-shadow(0px 1px 2px rgba(0, 0, 0, 0.3));\n",
              "      fill: #FFFFFF;\n",
              "    }\n",
              "  </style>\n",
              "\n",
              "      <script>\n",
              "        const buttonEl =\n",
              "          document.querySelector('#df-add2e6a5-5e72-4b52-9600-95bfc44772da button.colab-df-convert');\n",
              "        buttonEl.style.display =\n",
              "          google.colab.kernel.accessAllowed ? 'block' : 'none';\n",
              "\n",
              "        async function convertToInteractive(key) {\n",
              "          const element = document.querySelector('#df-add2e6a5-5e72-4b52-9600-95bfc44772da');\n",
              "          const dataTable =\n",
              "            await google.colab.kernel.invokeFunction('convertToInteractive',\n",
              "                                                     [key], {});\n",
              "          if (!dataTable) return;\n",
              "\n",
              "          const docLinkHtml = 'Like what you see? Visit the ' +\n",
              "            '<a target=\"_blank\" href=https://colab.research.google.com/notebooks/data_table.ipynb>data table notebook</a>'\n",
              "            + ' to learn more about interactive tables.';\n",
              "          element.innerHTML = '';\n",
              "          dataTable['output_type'] = 'display_data';\n",
              "          await google.colab.output.renderOutput(dataTable, element);\n",
              "          const docLink = document.createElement('div');\n",
              "          docLink.innerHTML = docLinkHtml;\n",
              "          element.appendChild(docLink);\n",
              "        }\n",
              "      </script>\n",
              "    </div>\n",
              "  </div>\n",
              "  "
            ]
          },
          "metadata": {},
          "execution_count": 38
        }
      ]
    },
    {
      "cell_type": "code",
      "source": [
        "#when the component increase it gives higher errors and model startes overfitting\n",
        "model_train = NMF(n_components=10, random_state=5) \n",
        "\n",
        "model_train.fit(R_Rating.values)\n",
        "nmf_features_train = model_train.transform(R_Rating.values)\n",
        "matrix_mult_train = np.matmul(nmf_features_train, model_train.components_)"
      ],
      "metadata": {
        "id": "rDPOJTo_hzNp"
      },
      "execution_count": 29,
      "outputs": []
    },
    {
      "cell_type": "code",
      "source": [
        "matrix_mult_train = pd.DataFrame(data=matrix_mult_train, index = R_Rating.index, columns = R_Rating.columns)\n",
        "melt_train_predictions = matrix_mult_train.reset_index().melt(id_vars=['user_id_maped'])"
      ],
      "metadata": {
        "id": "bmtJ1oJfh_Oy"
      },
      "execution_count": 30,
      "outputs": []
    },
    {
      "cell_type": "code",
      "source": [
        "actual_vs_predicted = pd.merge(melt_train_predictions, test[['user_id_maped', 'movie_id', 'rating']], how='inner', on=['user_id_maped', 'movie_id'])"
      ],
      "metadata": {
        "id": "bwcZ6SfSjb88"
      },
      "execution_count": 31,
      "outputs": []
    },
    {
      "cell_type": "code",
      "source": [
        "MSE = mean_squared_error(actual_vs_predicted.value, actual_vs_predicted.rating)\n",
        "RMSE_Rating = np.sqrt(MSE)\n",
        "MAE_Rating = mean_absolute_error(actual_vs_predicted.value, actual_vs_predicted.rating)"
      ],
      "metadata": {
        "id": "cLkP3VKvjgLY"
      },
      "execution_count": 32,
      "outputs": []
    },
    {
      "cell_type": "code",
      "source": [
        "RMSE_Rating"
      ],
      "metadata": {
        "id": "dsMZDQbpmLE7",
        "colab": {
          "base_uri": "https://localhost:8080/"
        },
        "outputId": "d3d5c486-07a0-4778-aea7-f1f01fce1f9b"
      },
      "execution_count": 33,
      "outputs": [
        {
          "output_type": "execute_result",
          "data": {
            "text/plain": [
              "0.38761656748351936"
            ]
          },
          "metadata": {},
          "execution_count": 33
        }
      ]
    },
    {
      "cell_type": "code",
      "source": [
        "MAE_Rating"
      ],
      "metadata": {
        "id": "mkfMA8ynjobM",
        "colab": {
          "base_uri": "https://localhost:8080/"
        },
        "outputId": "117c5406-a21a-412a-9661-533b4c2ab2f1"
      },
      "execution_count": 34,
      "outputs": [
        {
          "output_type": "execute_result",
          "data": {
            "text/plain": [
              "0.20626470632256003"
            ]
          },
          "metadata": {},
          "execution_count": 34
        }
      ]
    }
  ]
}