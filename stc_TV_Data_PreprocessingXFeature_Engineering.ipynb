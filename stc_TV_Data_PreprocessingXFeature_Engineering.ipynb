{
  "nbformat": 4,
  "nbformat_minor": 0,
  "metadata": {
    "colab": {
      "provenance": []
    },
    "kernelspec": {
      "name": "python3",
      "display_name": "Python 3"
    },
    "language_info": {
      "name": "python"
    }
  },
  "cells": [
    {
      "cell_type": "code",
      "execution_count": 1,
      "metadata": {
        "id": "ARISz_a4xCVI"
      },
      "outputs": [],
      "source": [
        "import pandas as pd\n",
        "import numpy as np\n",
        "import re\n",
        "import matplotlib.pyplot as plt\n",
        "%matplotlib inline"
      ]
    },
    {
      "cell_type": "code",
      "source": [
        "df = pd.read_csv('Final_Dataset.txt', index_col=0)\n",
        "#stcTV = pd.read_csv('stcTV.csv', index_col=0)\n",
        "#df.to_csv('df_nocap.csv')"
      ],
      "metadata": {
        "id": "wyDZF21DxKcv"
      },
      "execution_count": 2,
      "outputs": []
    },
    {
      "cell_type": "code",
      "source": [
        "len(df)"
      ],
      "metadata": {
        "colab": {
          "base_uri": "https://localhost:8080/"
        },
        "id": "6O8we2mD68cd",
        "outputId": "c0795c5c-36e6-4a28-d6e8-5d1a79601292"
      },
      "execution_count": 3,
      "outputs": [
        {
          "output_type": "execute_result",
          "data": {
            "text/plain": [
              "3598607"
            ]
          },
          "metadata": {},
          "execution_count": 3
        }
      ]
    },
    {
      "cell_type": "code",
      "source": [
        "df.head()"
      ],
      "metadata": {
        "colab": {
          "base_uri": "https://localhost:8080/",
          "height": 478
        },
        "id": "o33tKm9M64LY",
        "outputId": "a2ab8ee9-73a2-4181-f97e-18d81264f8a0"
      },
      "execution_count": 4,
      "outputs": [
        {
          "output_type": "execute_result",
          "data": {
            "text/plain": [
              "        date_  user_id_maped           program_name  duration_seconds  \\\n",
              "1  2017-05-27          26138             100 treets                40   \n",
              "3  2017-05-21           7946                 Moana                 17   \n",
              "4  2017-08-10           7418  The Mermaid Princess                  8   \n",
              "5  2017-07-26          19307  The Mermaid Princess                 76   \n",
              "7  2017-07-07          15860             Churchill                 87   \n",
              "\n",
              "  program_class  season  episode                              program_desc  \\\n",
              "1         MOVIE       0        0                    Drama Movie100 Streets   \n",
              "3         MOVIE       0        0                 Animation MovieMoana (HD)   \n",
              "4         MOVIE       0        0  Animation MovieThe Mermaid Princess (HD)   \n",
              "5         MOVIE       0        0  Animation MovieThe Mermaid Princess (HD)   \n",
              "7         MOVIE       0        0             Biography MovieChurchill (HD)   \n",
              "\n",
              "  program_genre  series_title  hd         original_name  \n",
              "1         Drama             0   0            100 treets  \n",
              "3     Animation             0   1                 Moana  \n",
              "4     Animation             0   1  The Mermaid Princess  \n",
              "5     Animation             0   1  The Mermaid Princess  \n",
              "7     Biography             0   1             Churchill  "
            ],
            "text/html": [
              "\n",
              "  <div id=\"df-a34f9a7c-c1e4-40e0-94ed-1373865aa970\">\n",
              "    <div class=\"colab-df-container\">\n",
              "      <div>\n",
              "<style scoped>\n",
              "    .dataframe tbody tr th:only-of-type {\n",
              "        vertical-align: middle;\n",
              "    }\n",
              "\n",
              "    .dataframe tbody tr th {\n",
              "        vertical-align: top;\n",
              "    }\n",
              "\n",
              "    .dataframe thead th {\n",
              "        text-align: right;\n",
              "    }\n",
              "</style>\n",
              "<table border=\"1\" class=\"dataframe\">\n",
              "  <thead>\n",
              "    <tr style=\"text-align: right;\">\n",
              "      <th></th>\n",
              "      <th>date_</th>\n",
              "      <th>user_id_maped</th>\n",
              "      <th>program_name</th>\n",
              "      <th>duration_seconds</th>\n",
              "      <th>program_class</th>\n",
              "      <th>season</th>\n",
              "      <th>episode</th>\n",
              "      <th>program_desc</th>\n",
              "      <th>program_genre</th>\n",
              "      <th>series_title</th>\n",
              "      <th>hd</th>\n",
              "      <th>original_name</th>\n",
              "    </tr>\n",
              "  </thead>\n",
              "  <tbody>\n",
              "    <tr>\n",
              "      <th>1</th>\n",
              "      <td>2017-05-27</td>\n",
              "      <td>26138</td>\n",
              "      <td>100 treets</td>\n",
              "      <td>40</td>\n",
              "      <td>MOVIE</td>\n",
              "      <td>0</td>\n",
              "      <td>0</td>\n",
              "      <td>Drama Movie100 Streets</td>\n",
              "      <td>Drama</td>\n",
              "      <td>0</td>\n",
              "      <td>0</td>\n",
              "      <td>100 treets</td>\n",
              "    </tr>\n",
              "    <tr>\n",
              "      <th>3</th>\n",
              "      <td>2017-05-21</td>\n",
              "      <td>7946</td>\n",
              "      <td>Moana</td>\n",
              "      <td>17</td>\n",
              "      <td>MOVIE</td>\n",
              "      <td>0</td>\n",
              "      <td>0</td>\n",
              "      <td>Animation MovieMoana (HD)</td>\n",
              "      <td>Animation</td>\n",
              "      <td>0</td>\n",
              "      <td>1</td>\n",
              "      <td>Moana</td>\n",
              "    </tr>\n",
              "    <tr>\n",
              "      <th>4</th>\n",
              "      <td>2017-08-10</td>\n",
              "      <td>7418</td>\n",
              "      <td>The Mermaid Princess</td>\n",
              "      <td>8</td>\n",
              "      <td>MOVIE</td>\n",
              "      <td>0</td>\n",
              "      <td>0</td>\n",
              "      <td>Animation MovieThe Mermaid Princess (HD)</td>\n",
              "      <td>Animation</td>\n",
              "      <td>0</td>\n",
              "      <td>1</td>\n",
              "      <td>The Mermaid Princess</td>\n",
              "    </tr>\n",
              "    <tr>\n",
              "      <th>5</th>\n",
              "      <td>2017-07-26</td>\n",
              "      <td>19307</td>\n",
              "      <td>The Mermaid Princess</td>\n",
              "      <td>76</td>\n",
              "      <td>MOVIE</td>\n",
              "      <td>0</td>\n",
              "      <td>0</td>\n",
              "      <td>Animation MovieThe Mermaid Princess (HD)</td>\n",
              "      <td>Animation</td>\n",
              "      <td>0</td>\n",
              "      <td>1</td>\n",
              "      <td>The Mermaid Princess</td>\n",
              "    </tr>\n",
              "    <tr>\n",
              "      <th>7</th>\n",
              "      <td>2017-07-07</td>\n",
              "      <td>15860</td>\n",
              "      <td>Churchill</td>\n",
              "      <td>87</td>\n",
              "      <td>MOVIE</td>\n",
              "      <td>0</td>\n",
              "      <td>0</td>\n",
              "      <td>Biography MovieChurchill (HD)</td>\n",
              "      <td>Biography</td>\n",
              "      <td>0</td>\n",
              "      <td>1</td>\n",
              "      <td>Churchill</td>\n",
              "    </tr>\n",
              "  </tbody>\n",
              "</table>\n",
              "</div>\n",
              "      <button class=\"colab-df-convert\" onclick=\"convertToInteractive('df-a34f9a7c-c1e4-40e0-94ed-1373865aa970')\"\n",
              "              title=\"Convert this dataframe to an interactive table.\"\n",
              "              style=\"display:none;\">\n",
              "        \n",
              "  <svg xmlns=\"http://www.w3.org/2000/svg\" height=\"24px\"viewBox=\"0 0 24 24\"\n",
              "       width=\"24px\">\n",
              "    <path d=\"M0 0h24v24H0V0z\" fill=\"none\"/>\n",
              "    <path d=\"M18.56 5.44l.94 2.06.94-2.06 2.06-.94-2.06-.94-.94-2.06-.94 2.06-2.06.94zm-11 1L8.5 8.5l.94-2.06 2.06-.94-2.06-.94L8.5 2.5l-.94 2.06-2.06.94zm10 10l.94 2.06.94-2.06 2.06-.94-2.06-.94-.94-2.06-.94 2.06-2.06.94z\"/><path d=\"M17.41 7.96l-1.37-1.37c-.4-.4-.92-.59-1.43-.59-.52 0-1.04.2-1.43.59L10.3 9.45l-7.72 7.72c-.78.78-.78 2.05 0 2.83L4 21.41c.39.39.9.59 1.41.59.51 0 1.02-.2 1.41-.59l7.78-7.78 2.81-2.81c.8-.78.8-2.07 0-2.86zM5.41 20L4 18.59l7.72-7.72 1.47 1.35L5.41 20z\"/>\n",
              "  </svg>\n",
              "      </button>\n",
              "      \n",
              "  <style>\n",
              "    .colab-df-container {\n",
              "      display:flex;\n",
              "      flex-wrap:wrap;\n",
              "      gap: 12px;\n",
              "    }\n",
              "\n",
              "    .colab-df-convert {\n",
              "      background-color: #E8F0FE;\n",
              "      border: none;\n",
              "      border-radius: 50%;\n",
              "      cursor: pointer;\n",
              "      display: none;\n",
              "      fill: #1967D2;\n",
              "      height: 32px;\n",
              "      padding: 0 0 0 0;\n",
              "      width: 32px;\n",
              "    }\n",
              "\n",
              "    .colab-df-convert:hover {\n",
              "      background-color: #E2EBFA;\n",
              "      box-shadow: 0px 1px 2px rgba(60, 64, 67, 0.3), 0px 1px 3px 1px rgba(60, 64, 67, 0.15);\n",
              "      fill: #174EA6;\n",
              "    }\n",
              "\n",
              "    [theme=dark] .colab-df-convert {\n",
              "      background-color: #3B4455;\n",
              "      fill: #D2E3FC;\n",
              "    }\n",
              "\n",
              "    [theme=dark] .colab-df-convert:hover {\n",
              "      background-color: #434B5C;\n",
              "      box-shadow: 0px 1px 3px 1px rgba(0, 0, 0, 0.15);\n",
              "      filter: drop-shadow(0px 1px 2px rgba(0, 0, 0, 0.3));\n",
              "      fill: #FFFFFF;\n",
              "    }\n",
              "  </style>\n",
              "\n",
              "      <script>\n",
              "        const buttonEl =\n",
              "          document.querySelector('#df-a34f9a7c-c1e4-40e0-94ed-1373865aa970 button.colab-df-convert');\n",
              "        buttonEl.style.display =\n",
              "          google.colab.kernel.accessAllowed ? 'block' : 'none';\n",
              "\n",
              "        async function convertToInteractive(key) {\n",
              "          const element = document.querySelector('#df-a34f9a7c-c1e4-40e0-94ed-1373865aa970');\n",
              "          const dataTable =\n",
              "            await google.colab.kernel.invokeFunction('convertToInteractive',\n",
              "                                                     [key], {});\n",
              "          if (!dataTable) return;\n",
              "\n",
              "          const docLinkHtml = 'Like what you see? Visit the ' +\n",
              "            '<a target=\"_blank\" href=https://colab.research.google.com/notebooks/data_table.ipynb>data table notebook</a>'\n",
              "            + ' to learn more about interactive tables.';\n",
              "          element.innerHTML = '';\n",
              "          dataTable['output_type'] = 'display_data';\n",
              "          await google.colab.output.renderOutput(dataTable, element);\n",
              "          const docLink = document.createElement('div');\n",
              "          docLink.innerHTML = docLinkHtml;\n",
              "          element.appendChild(docLink);\n",
              "        }\n",
              "      </script>\n",
              "    </div>\n",
              "  </div>\n",
              "  "
            ]
          },
          "metadata": {},
          "execution_count": 4
        }
      ]
    },
    {
      "cell_type": "code",
      "source": [
        "len(df.original_name.unique())"
      ],
      "metadata": {
        "colab": {
          "base_uri": "https://localhost:8080/"
        },
        "id": "kmeJQa3G8p19",
        "outputId": "9b668e42-8d02-4ef0-fc4e-3532e75fa5d7"
      },
      "execution_count": 5,
      "outputs": [
        {
          "output_type": "execute_result",
          "data": {
            "text/plain": [
              "1828"
            ]
          },
          "metadata": {},
          "execution_count": 5
        }
      ]
    },
    {
      "cell_type": "code",
      "source": [
        "len(df.program_name.unique())"
      ],
      "metadata": {
        "colab": {
          "base_uri": "https://localhost:8080/"
        },
        "id": "chWZLYAb85w-",
        "outputId": "81761bda-ed57-4d4b-b364-2a912bfc37f9"
      },
      "execution_count": 6,
      "outputs": [
        {
          "output_type": "execute_result",
          "data": {
            "text/plain": [
              "8661"
            ]
          },
          "metadata": {},
          "execution_count": 6
        }
      ]
    },
    {
      "cell_type": "code",
      "source": [
        "#to format names and keep unique names\n",
        "def standardize_text(input_text):\n",
        "    clean_text = re.sub('[^A-Za-z0-9]+', '', str(input_text))\n",
        "    return clean_text"
      ],
      "metadata": {
        "id": "C8jit4AAxM1N"
      },
      "execution_count": 7,
      "outputs": []
    },
    {
      "cell_type": "code",
      "source": [
        "df['original_name'] = df['original_name'].apply(lambda x: standardize_text(x))\n",
        "df['program_name'] = df['program_name'].apply(lambda x: standardize_text(x))"
      ],
      "metadata": {
        "id": "sqXaYqy0xO2u"
      },
      "execution_count": 8,
      "outputs": []
    },
    {
      "cell_type": "code",
      "source": [
        "len(df.original_name.unique())"
      ],
      "metadata": {
        "colab": {
          "base_uri": "https://localhost:8080/"
        },
        "id": "tYB4DLG89AdL",
        "outputId": "b981cdab-9c3a-4634-fc80-ad3f2eab85ae"
      },
      "execution_count": 9,
      "outputs": [
        {
          "output_type": "execute_result",
          "data": {
            "text/plain": [
              "1795"
            ]
          },
          "metadata": {},
          "execution_count": 9
        }
      ]
    },
    {
      "cell_type": "code",
      "source": [
        "len(df.program_name.unique())"
      ],
      "metadata": {
        "colab": {
          "base_uri": "https://localhost:8080/"
        },
        "id": "CHWQbpRw9B8C",
        "outputId": "7c0b10b2-5b05-46d3-9578-f67704514c5b"
      },
      "execution_count": 10,
      "outputs": [
        {
          "output_type": "execute_result",
          "data": {
            "text/plain": [
              "8400"
            ]
          },
          "metadata": {},
          "execution_count": 10
        }
      ]
    },
    {
      "cell_type": "code",
      "source": [
        "#handling duplications by taking sum of durations for same records \n",
        "#df = df.groupby(['user_id_maped','series_title','standardize_original_name'], as_index=False)['duration_seconds'].sum()\n",
        "#df = df.groupby(['user_id_maped','season','standardize_original_name'], as_index=False)['duration_seconds'].sum()\n",
        "#df = df.groupby(['user_id_maped','episode','standardize_original_name'], as_index=False)['duration_seconds'].sum()\n",
        "df = df.groupby(['user_id_maped','program_class','program_genre','series_title', 'hd','original_name'], as_index=False)['duration_seconds'].sum()"
      ],
      "metadata": {
        "id": "tFlvvx3WxRmC"
      },
      "execution_count": 12,
      "outputs": []
    },
    {
      "cell_type": "code",
      "source": [
        "len(df)"
      ],
      "metadata": {
        "colab": {
          "base_uri": "https://localhost:8080/"
        },
        "id": "T7Z0Teva9IR-",
        "outputId": "79e9122a-61be-4480-ceb0-66b8a44d16ab"
      },
      "execution_count": 13,
      "outputs": [
        {
          "output_type": "execute_result",
          "data": {
            "text/plain": [
              "714700"
            ]
          },
          "metadata": {},
          "execution_count": 13
        }
      ]
    },
    {
      "cell_type": "code",
      "source": [
        "# Handling Outliers by Durations Capping to 1 Hour According to Statista.com Statistics\n",
        "df['duration_seconds'] = np.where(df.duration_seconds>=(60*60*1), (60*60*1), df.duration_seconds)"
      ],
      "metadata": {
        "id": "HIRMTmNGxTf5"
      },
      "execution_count": 14,
      "outputs": []
    },
    {
      "cell_type": "code",
      "source": [
        "# Feature binning will be treated as Ratings. \n",
        "# Because we don't have the actual duration of a program, we will use the maximum observed duration. \n",
        "df['max_duration'] = df.groupby('original_name')['duration_seconds'].transform(lambda x: x.max())\n",
        "df['Rating'] = df['duration_seconds']*10/df['max_duration']\n",
        "df['Rating'] = df['Rating'].apply(lambda x: int(x))"
      ],
      "metadata": {
        "id": "ltfUF5npxXeO"
      },
      "execution_count": 15,
      "outputs": []
    },
    {
      "cell_type": "code",
      "source": [
        "#the following tests to show the importance of the cap where without it the values will tend to be zeros\n",
        "df.Rating.value_counts() #1 hour"
      ],
      "metadata": {
        "colab": {
          "base_uri": "https://localhost:8080/"
        },
        "id": "yvD6uWhn9Sad",
        "outputId": "c3cd8a37-88b3-40d4-b881-55f99395330b"
      },
      "execution_count": null,
      "outputs": [
        {
          "output_type": "execute_result",
          "data": {
            "text/plain": [
              "0     589451\n",
              "10    255270\n",
              "3     130294\n",
              "6      96790\n",
              "7      86361\n",
              "1      66420\n",
              "4      48211\n",
              "2      46507\n",
              "8      36528\n",
              "5      31168\n",
              "9      23287\n",
              "Name: Rating, dtype: int64"
            ]
          },
          "metadata": {},
          "execution_count": 34
        }
      ]
    },
    {
      "cell_type": "code",
      "source": [
        "df.Rating.value_counts() #2 hours"
      ],
      "metadata": {
        "colab": {
          "base_uri": "https://localhost:8080/"
        },
        "id": "fDjOUXd89Zn2",
        "outputId": "3812ba5c-1cc3-4a5c-f772-e7a95b1b8f34"
      },
      "execution_count": null,
      "outputs": [
        {
          "output_type": "execute_result",
          "data": {
            "text/plain": [
              "0     655063\n",
              "3     183179\n",
              "1     177081\n",
              "10    108253\n",
              "2      79402\n",
              "4      59892\n",
              "5      38600\n",
              "7      34621\n",
              "6      32480\n",
              "8      22348\n",
              "9      19368\n",
              "Name: Rating, dtype: int64"
            ]
          },
          "metadata": {},
          "execution_count": 47
        }
      ]
    },
    {
      "cell_type": "code",
      "source": [
        "df.Rating.value_counts() #3 hours"
      ],
      "metadata": {
        "colab": {
          "base_uri": "https://localhost:8080/"
        },
        "id": "dDKyoklu-FMW",
        "outputId": "cad9a240-9c94-49bb-f206-fc2c04f98a4b"
      },
      "execution_count": null,
      "outputs": [
        {
          "output_type": "execute_result",
          "data": {
            "text/plain": [
              "0     701152\n",
              "2     219752\n",
              "1     209961\n",
              "10     62306\n",
              "3      61928\n",
              "4      51249\n",
              "5      38131\n",
              "6      26946\n",
              "7      17633\n",
              "8      12042\n",
              "9       9187\n",
              "Name: Rating, dtype: int64"
            ]
          },
          "metadata": {},
          "execution_count": 54
        }
      ]
    },
    {
      "cell_type": "code",
      "source": [
        "df.Rating.value_counts() #no caps"
      ],
      "metadata": {
        "colab": {
          "base_uri": "https://localhost:8080/"
        },
        "id": "srtkZ3wq-Hqo",
        "outputId": "fa451b0b-50bc-49bb-c6f8-f628b1167392"
      },
      "execution_count": null,
      "outputs": [
        {
          "output_type": "execute_result",
          "data": {
            "text/plain": [
              "0     1369083\n",
              "1       23298\n",
              "2        6968\n",
              "3        3365\n",
              "4        2095\n",
              "10       1790\n",
              "5        1350\n",
              "6         874\n",
              "7         603\n",
              "8         461\n",
              "9         400\n",
              "Name: Rating, dtype: int64"
            ]
          },
          "metadata": {},
          "execution_count": 60
        }
      ]
    },
    {
      "cell_type": "code",
      "source": [
        "#Adjust Undefined Genre according to IMDb \n",
        "df.loc[ df['original_name'] == 'Dunkirk', 'program_genre'] = 'Action'\n",
        "df.loc[ df['original_name'] == 'Friends', 'program_genre'] = 'Comedy'\n",
        "df.loc[ df['original_name'] == 'Harry', 'program_genre'] = 'Crime'\n",
        "df.loc[ df['original_name'] == 'SehheeWaaree', 'program_genre'] = 'Others'\n",
        "df.loc[ df['original_name'] == 'BatmanUnlimitedAnimalInstinctsforViewing', 'program_genre'] = 'Animation'"
      ],
      "metadata": {
        "id": "CXGoCbz6xYCi"
      },
      "execution_count": 16,
      "outputs": []
    },
    {
      "cell_type": "code",
      "source": [
        "df.program_genre.value_counts()"
      ],
      "metadata": {
        "colab": {
          "base_uri": "https://localhost:8080/"
        },
        "id": "rF5LOQ3gAujJ",
        "outputId": "d09e27fd-556f-4a6a-e38b-6c52ad6cf95c"
      },
      "execution_count": 17,
      "outputs": [
        {
          "output_type": "execute_result",
          "data": {
            "text/plain": [
              "Action         179840\n",
              "Animation      168151\n",
              "Comedy         108976\n",
              "Drama          101677\n",
              "Horror          56726\n",
              "Thriller        45263\n",
              "Biography       21069\n",
              "Family          14555\n",
              "Documentary     12908\n",
              "Crime            3691\n",
              "Sci-Fi           1000\n",
              "Adventure         402\n",
              "Romance           325\n",
              "Others             91\n",
              "Wrestling          26\n",
              "Name: program_genre, dtype: int64"
            ]
          },
          "metadata": {},
          "execution_count": 17
        }
      ]
    },
    {
      "cell_type": "code",
      "source": [
        "user_genres = df.groupby(['user_id_maped','program_genre'], as_index=False)['original_name'].size()\n",
        "user_genres.rename(columns = {\"program_genre\":\"preferred_program_genre\"}, inplace=True)"
      ],
      "metadata": {
        "id": "n9ASLrs5zl-d"
      },
      "execution_count": 18,
      "outputs": []
    },
    {
      "cell_type": "code",
      "source": [
        "user_genres['ranks'] = user_genres.groupby('user_id_maped')['size'].rank(ascending=False, method='first')\n",
        "user_genres = user_genres.loc[user_genres['ranks']==1]\n",
        "df = df.merge(user_genres[['user_id_maped','preferred_program_genre']])"
      ],
      "metadata": {
        "id": "JLaOWrfw0DJb"
      },
      "execution_count": 19,
      "outputs": []
    },
    {
      "cell_type": "code",
      "source": [
        "#If the preferred category of the user is Animation then we assume that the user is not an adult and vice versa\n",
        "#df['isKid'] = np.where(df.preferred_program_genre=='Animation', 1 ,0) #1 is true"
      ],
      "metadata": {
        "id": "MQyggssp0T5J"
      },
      "execution_count": 20,
      "outputs": []
    },
    {
      "cell_type": "code",
      "source": [
        "user_counts = df.groupby(['user_id_maped'], as_index=False)['original_name'].count()\n",
        "user_counts.original_name.mean()\n",
        "user_counts['isActive'] = np.where(user_counts.original_name>user_counts.original_name.mean(), 1,0)\n",
        "df = df.merge(user_counts[['user_id_maped','isActive']])\n"
      ],
      "metadata": {
        "id": "asJFLddPhHvC"
      },
      "execution_count": 21,
      "outputs": []
    },
    {
      "cell_type": "code",
      "source": [
        "movie_counts = df.groupby(['original_name'], as_index=False)['user_id_maped'].count()\n",
        "movie_counts.user_id_maped.mean()\n",
        "movie_counts['isPopular'] = np.where(movie_counts.user_id_maped>movie_counts.user_id_maped.mean(), 1,0)\n",
        "df = df.merge(movie_counts[['original_name','isPopular']])"
      ],
      "metadata": {
        "id": "PhjiMzk9iNZ4"
      },
      "execution_count": 22,
      "outputs": []
    },
    {
      "cell_type": "code",
      "source": [
        "df.isPopular.value_counts()"
      ],
      "metadata": {
        "colab": {
          "base_uri": "https://localhost:8080/"
        },
        "id": "jKGKb6j7iyqE",
        "outputId": "e0167181-8c85-4b85-ed3b-b460e46bb3d6"
      },
      "execution_count": 23,
      "outputs": [
        {
          "output_type": "execute_result",
          "data": {
            "text/plain": [
              "1    549105\n",
              "0    165595\n",
              "Name: isPopular, dtype: int64"
            ]
          },
          "metadata": {},
          "execution_count": 23
        }
      ]
    },
    {
      "cell_type": "code",
      "source": [
        "df.isActive.value_counts()"
      ],
      "metadata": {
        "colab": {
          "base_uri": "https://localhost:8080/"
        },
        "id": "DG2LJz3n_8Ss",
        "outputId": "bf094331-e2f1-429e-f2f0-93e698b81572"
      },
      "execution_count": 24,
      "outputs": [
        {
          "output_type": "execute_result",
          "data": {
            "text/plain": [
              "1    578805\n",
              "0    135895\n",
              "Name: isActive, dtype: int64"
            ]
          },
          "metadata": {},
          "execution_count": 24
        }
      ]
    },
    {
      "cell_type": "code",
      "source": [
        "df.preferred_program_genre.value_counts()"
      ],
      "metadata": {
        "colab": {
          "base_uri": "https://localhost:8080/"
        },
        "id": "ARPptFTPABI2",
        "outputId": "048b4dfa-3a9b-4f2f-c8e9-ef6e869d81f7"
      },
      "execution_count": 25,
      "outputs": [
        {
          "output_type": "execute_result",
          "data": {
            "text/plain": [
              "Action         342269\n",
              "Animation      236134\n",
              "Comedy          70993\n",
              "Drama           46079\n",
              "Horror          16651\n",
              "Biography        1124\n",
              "Thriller         1034\n",
              "Documentary       331\n",
              "Family             72\n",
              "Crime               7\n",
              "Romance             2\n",
              "Sci-Fi              2\n",
              "Adventure           1\n",
              "Wrestling           1\n",
              "Name: preferred_program_genre, dtype: int64"
            ]
          },
          "metadata": {},
          "execution_count": 25
        }
      ]
    },
    {
      "cell_type": "code",
      "source": [
        "df.head()"
      ],
      "metadata": {
        "colab": {
          "base_uri": "https://localhost:8080/",
          "height": 270
        },
        "id": "bClSDWUBBA-C",
        "outputId": "76cffde0-b4dc-439c-a056-6cbf60b24db3"
      },
      "execution_count": 26,
      "outputs": [
        {
          "output_type": "execute_result",
          "data": {
            "text/plain": [
              "   user_id_maped program_class program_genre  series_title  hd original_name  \\\n",
              "0              1         MOVIE        Action             0   0    MenInBlack   \n",
              "1             25         MOVIE        Action             0   0    MenInBlack   \n",
              "2             46         MOVIE        Action             0   0    MenInBlack   \n",
              "3            161         MOVIE        Action             0   0    MenInBlack   \n",
              "4            175         MOVIE        Action             0   0    MenInBlack   \n",
              "\n",
              "   duration_seconds  max_duration  Rating preferred_program_genre  isActive  \\\n",
              "0              3600          3600      10                  Action         0   \n",
              "1                16          3600       0                  Comedy         1   \n",
              "2              3600          3600      10               Animation         1   \n",
              "3              3600          3600      10                  Action         1   \n",
              "4                 4          3600       0                  Action         1   \n",
              "\n",
              "   isPopular  \n",
              "0          1  \n",
              "1          1  \n",
              "2          1  \n",
              "3          1  \n",
              "4          1  "
            ],
            "text/html": [
              "\n",
              "  <div id=\"df-f8d64245-aea6-4a75-a674-e3d14473d82e\">\n",
              "    <div class=\"colab-df-container\">\n",
              "      <div>\n",
              "<style scoped>\n",
              "    .dataframe tbody tr th:only-of-type {\n",
              "        vertical-align: middle;\n",
              "    }\n",
              "\n",
              "    .dataframe tbody tr th {\n",
              "        vertical-align: top;\n",
              "    }\n",
              "\n",
              "    .dataframe thead th {\n",
              "        text-align: right;\n",
              "    }\n",
              "</style>\n",
              "<table border=\"1\" class=\"dataframe\">\n",
              "  <thead>\n",
              "    <tr style=\"text-align: right;\">\n",
              "      <th></th>\n",
              "      <th>user_id_maped</th>\n",
              "      <th>program_class</th>\n",
              "      <th>program_genre</th>\n",
              "      <th>series_title</th>\n",
              "      <th>hd</th>\n",
              "      <th>original_name</th>\n",
              "      <th>duration_seconds</th>\n",
              "      <th>max_duration</th>\n",
              "      <th>Rating</th>\n",
              "      <th>preferred_program_genre</th>\n",
              "      <th>isActive</th>\n",
              "      <th>isPopular</th>\n",
              "    </tr>\n",
              "  </thead>\n",
              "  <tbody>\n",
              "    <tr>\n",
              "      <th>0</th>\n",
              "      <td>1</td>\n",
              "      <td>MOVIE</td>\n",
              "      <td>Action</td>\n",
              "      <td>0</td>\n",
              "      <td>0</td>\n",
              "      <td>MenInBlack</td>\n",
              "      <td>3600</td>\n",
              "      <td>3600</td>\n",
              "      <td>10</td>\n",
              "      <td>Action</td>\n",
              "      <td>0</td>\n",
              "      <td>1</td>\n",
              "    </tr>\n",
              "    <tr>\n",
              "      <th>1</th>\n",
              "      <td>25</td>\n",
              "      <td>MOVIE</td>\n",
              "      <td>Action</td>\n",
              "      <td>0</td>\n",
              "      <td>0</td>\n",
              "      <td>MenInBlack</td>\n",
              "      <td>16</td>\n",
              "      <td>3600</td>\n",
              "      <td>0</td>\n",
              "      <td>Comedy</td>\n",
              "      <td>1</td>\n",
              "      <td>1</td>\n",
              "    </tr>\n",
              "    <tr>\n",
              "      <th>2</th>\n",
              "      <td>46</td>\n",
              "      <td>MOVIE</td>\n",
              "      <td>Action</td>\n",
              "      <td>0</td>\n",
              "      <td>0</td>\n",
              "      <td>MenInBlack</td>\n",
              "      <td>3600</td>\n",
              "      <td>3600</td>\n",
              "      <td>10</td>\n",
              "      <td>Animation</td>\n",
              "      <td>1</td>\n",
              "      <td>1</td>\n",
              "    </tr>\n",
              "    <tr>\n",
              "      <th>3</th>\n",
              "      <td>161</td>\n",
              "      <td>MOVIE</td>\n",
              "      <td>Action</td>\n",
              "      <td>0</td>\n",
              "      <td>0</td>\n",
              "      <td>MenInBlack</td>\n",
              "      <td>3600</td>\n",
              "      <td>3600</td>\n",
              "      <td>10</td>\n",
              "      <td>Action</td>\n",
              "      <td>1</td>\n",
              "      <td>1</td>\n",
              "    </tr>\n",
              "    <tr>\n",
              "      <th>4</th>\n",
              "      <td>175</td>\n",
              "      <td>MOVIE</td>\n",
              "      <td>Action</td>\n",
              "      <td>0</td>\n",
              "      <td>0</td>\n",
              "      <td>MenInBlack</td>\n",
              "      <td>4</td>\n",
              "      <td>3600</td>\n",
              "      <td>0</td>\n",
              "      <td>Action</td>\n",
              "      <td>1</td>\n",
              "      <td>1</td>\n",
              "    </tr>\n",
              "  </tbody>\n",
              "</table>\n",
              "</div>\n",
              "      <button class=\"colab-df-convert\" onclick=\"convertToInteractive('df-f8d64245-aea6-4a75-a674-e3d14473d82e')\"\n",
              "              title=\"Convert this dataframe to an interactive table.\"\n",
              "              style=\"display:none;\">\n",
              "        \n",
              "  <svg xmlns=\"http://www.w3.org/2000/svg\" height=\"24px\"viewBox=\"0 0 24 24\"\n",
              "       width=\"24px\">\n",
              "    <path d=\"M0 0h24v24H0V0z\" fill=\"none\"/>\n",
              "    <path d=\"M18.56 5.44l.94 2.06.94-2.06 2.06-.94-2.06-.94-.94-2.06-.94 2.06-2.06.94zm-11 1L8.5 8.5l.94-2.06 2.06-.94-2.06-.94L8.5 2.5l-.94 2.06-2.06.94zm10 10l.94 2.06.94-2.06 2.06-.94-2.06-.94-.94-2.06-.94 2.06-2.06.94z\"/><path d=\"M17.41 7.96l-1.37-1.37c-.4-.4-.92-.59-1.43-.59-.52 0-1.04.2-1.43.59L10.3 9.45l-7.72 7.72c-.78.78-.78 2.05 0 2.83L4 21.41c.39.39.9.59 1.41.59.51 0 1.02-.2 1.41-.59l7.78-7.78 2.81-2.81c.8-.78.8-2.07 0-2.86zM5.41 20L4 18.59l7.72-7.72 1.47 1.35L5.41 20z\"/>\n",
              "  </svg>\n",
              "      </button>\n",
              "      \n",
              "  <style>\n",
              "    .colab-df-container {\n",
              "      display:flex;\n",
              "      flex-wrap:wrap;\n",
              "      gap: 12px;\n",
              "    }\n",
              "\n",
              "    .colab-df-convert {\n",
              "      background-color: #E8F0FE;\n",
              "      border: none;\n",
              "      border-radius: 50%;\n",
              "      cursor: pointer;\n",
              "      display: none;\n",
              "      fill: #1967D2;\n",
              "      height: 32px;\n",
              "      padding: 0 0 0 0;\n",
              "      width: 32px;\n",
              "    }\n",
              "\n",
              "    .colab-df-convert:hover {\n",
              "      background-color: #E2EBFA;\n",
              "      box-shadow: 0px 1px 2px rgba(60, 64, 67, 0.3), 0px 1px 3px 1px rgba(60, 64, 67, 0.15);\n",
              "      fill: #174EA6;\n",
              "    }\n",
              "\n",
              "    [theme=dark] .colab-df-convert {\n",
              "      background-color: #3B4455;\n",
              "      fill: #D2E3FC;\n",
              "    }\n",
              "\n",
              "    [theme=dark] .colab-df-convert:hover {\n",
              "      background-color: #434B5C;\n",
              "      box-shadow: 0px 1px 3px 1px rgba(0, 0, 0, 0.15);\n",
              "      filter: drop-shadow(0px 1px 2px rgba(0, 0, 0, 0.3));\n",
              "      fill: #FFFFFF;\n",
              "    }\n",
              "  </style>\n",
              "\n",
              "      <script>\n",
              "        const buttonEl =\n",
              "          document.querySelector('#df-f8d64245-aea6-4a75-a674-e3d14473d82e button.colab-df-convert');\n",
              "        buttonEl.style.display =\n",
              "          google.colab.kernel.accessAllowed ? 'block' : 'none';\n",
              "\n",
              "        async function convertToInteractive(key) {\n",
              "          const element = document.querySelector('#df-f8d64245-aea6-4a75-a674-e3d14473d82e');\n",
              "          const dataTable =\n",
              "            await google.colab.kernel.invokeFunction('convertToInteractive',\n",
              "                                                     [key], {});\n",
              "          if (!dataTable) return;\n",
              "\n",
              "          const docLinkHtml = 'Like what you see? Visit the ' +\n",
              "            '<a target=\"_blank\" href=https://colab.research.google.com/notebooks/data_table.ipynb>data table notebook</a>'\n",
              "            + ' to learn more about interactive tables.';\n",
              "          element.innerHTML = '';\n",
              "          dataTable['output_type'] = 'display_data';\n",
              "          await google.colab.output.renderOutput(dataTable, element);\n",
              "          const docLink = document.createElement('div');\n",
              "          docLink.innerHTML = docLinkHtml;\n",
              "          element.appendChild(docLink);\n",
              "        }\n",
              "      </script>\n",
              "    </div>\n",
              "  </div>\n",
              "  "
            ]
          },
          "metadata": {},
          "execution_count": 26
        }
      ]
    },
    {
      "cell_type": "code",
      "source": [
        "df.to_csv('Final_Dataset.txt')"
      ],
      "metadata": {
        "id": "fFlqCR822SOJ"
      },
      "execution_count": 27,
      "outputs": []
    }
  ]
}