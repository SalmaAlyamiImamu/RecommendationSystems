{
  "nbformat": 4,
  "nbformat_minor": 0,
  "metadata": {
    "colab": {
      "provenance": []
    },
    "kernelspec": {
      "name": "python3",
      "display_name": "Python 3"
    },
    "language_info": {
      "name": "python"
    }
  },
  "cells": [
    {
      "cell_type": "code",
      "execution_count": 72,
      "metadata": {
        "id": "ARISz_a4xCVI"
      },
      "outputs": [],
      "source": [
        "import pandas as pd\n",
        "import numpy as np\n",
        "import re\n",
        "import matplotlib.pyplot as plt\n",
        "%matplotlib inline"
      ]
    },
    {
      "cell_type": "code",
      "source": [
        "df = pd.read_csv('Final_Dataset.txt', index_col=0)\n",
        "#stcTV = pd.read_csv('stcTV.csv', index_col=0)\n",
        "#df.to_csv('df_nocap.csv')"
      ],
      "metadata": {
        "id": "wyDZF21DxKcv"
      },
      "execution_count": 74,
      "outputs": []
    },
    {
      "cell_type": "code",
      "source": [
        "len(df)"
      ],
      "metadata": {
        "colab": {
          "base_uri": "https://localhost:8080/"
        },
        "id": "6O8we2mD68cd",
        "outputId": "ea4d095e-4f84-4a86-f80e-1b4642b3be7f"
      },
      "execution_count": 75,
      "outputs": [
        {
          "output_type": "execute_result",
          "data": {
            "text/plain": [
              "3598607"
            ]
          },
          "metadata": {},
          "execution_count": 75
        }
      ]
    },
    {
      "cell_type": "code",
      "source": [
        "df.head()"
      ],
      "metadata": {
        "colab": {
          "base_uri": "https://localhost:8080/",
          "height": 337
        },
        "id": "o33tKm9M64LY",
        "outputId": "a23c55ad-a4ed-43af-80e5-6fa54eab372a"
      },
      "execution_count": 76,
      "outputs": [
        {
          "output_type": "execute_result",
          "data": {
            "text/plain": [
              "        date_  user_id_maped           program_name  duration_seconds  \\\n",
              "1  2017-05-27          26138             100 treets                40   \n",
              "3  2017-05-21           7946                 Moana                 17   \n",
              "4  2017-08-10           7418  The Mermaid Princess                  8   \n",
              "5  2017-07-26          19307  The Mermaid Princess                 76   \n",
              "7  2017-07-07          15860             Churchill                 87   \n",
              "\n",
              "  program_class  season  episode                              program_desc  \\\n",
              "1         MOVIE       0        0                    Drama Movie100 Streets   \n",
              "3         MOVIE       0        0                 Animation MovieMoana (HD)   \n",
              "4         MOVIE       0        0  Animation MovieThe Mermaid Princess (HD)   \n",
              "5         MOVIE       0        0  Animation MovieThe Mermaid Princess (HD)   \n",
              "7         MOVIE       0        0             Biography MovieChurchill (HD)   \n",
              "\n",
              "  program_genre  series_title  hd         original_name  \n",
              "1         Drama             0   0            100 treets  \n",
              "3     Animation             0   1                 Moana  \n",
              "4     Animation             0   1  The Mermaid Princess  \n",
              "5     Animation             0   1  The Mermaid Princess  \n",
              "7     Biography             0   1             Churchill  "
            ],
            "text/html": [
              "\n",
              "  <div id=\"df-9f07f313-d6e5-4aef-96b8-602a37493ec4\">\n",
              "    <div class=\"colab-df-container\">\n",
              "      <div>\n",
              "<style scoped>\n",
              "    .dataframe tbody tr th:only-of-type {\n",
              "        vertical-align: middle;\n",
              "    }\n",
              "\n",
              "    .dataframe tbody tr th {\n",
              "        vertical-align: top;\n",
              "    }\n",
              "\n",
              "    .dataframe thead th {\n",
              "        text-align: right;\n",
              "    }\n",
              "</style>\n",
              "<table border=\"1\" class=\"dataframe\">\n",
              "  <thead>\n",
              "    <tr style=\"text-align: right;\">\n",
              "      <th></th>\n",
              "      <th>date_</th>\n",
              "      <th>user_id_maped</th>\n",
              "      <th>program_name</th>\n",
              "      <th>duration_seconds</th>\n",
              "      <th>program_class</th>\n",
              "      <th>season</th>\n",
              "      <th>episode</th>\n",
              "      <th>program_desc</th>\n",
              "      <th>program_genre</th>\n",
              "      <th>series_title</th>\n",
              "      <th>hd</th>\n",
              "      <th>original_name</th>\n",
              "    </tr>\n",
              "  </thead>\n",
              "  <tbody>\n",
              "    <tr>\n",
              "      <th>1</th>\n",
              "      <td>2017-05-27</td>\n",
              "      <td>26138</td>\n",
              "      <td>100 treets</td>\n",
              "      <td>40</td>\n",
              "      <td>MOVIE</td>\n",
              "      <td>0</td>\n",
              "      <td>0</td>\n",
              "      <td>Drama Movie100 Streets</td>\n",
              "      <td>Drama</td>\n",
              "      <td>0</td>\n",
              "      <td>0</td>\n",
              "      <td>100 treets</td>\n",
              "    </tr>\n",
              "    <tr>\n",
              "      <th>3</th>\n",
              "      <td>2017-05-21</td>\n",
              "      <td>7946</td>\n",
              "      <td>Moana</td>\n",
              "      <td>17</td>\n",
              "      <td>MOVIE</td>\n",
              "      <td>0</td>\n",
              "      <td>0</td>\n",
              "      <td>Animation MovieMoana (HD)</td>\n",
              "      <td>Animation</td>\n",
              "      <td>0</td>\n",
              "      <td>1</td>\n",
              "      <td>Moana</td>\n",
              "    </tr>\n",
              "    <tr>\n",
              "      <th>4</th>\n",
              "      <td>2017-08-10</td>\n",
              "      <td>7418</td>\n",
              "      <td>The Mermaid Princess</td>\n",
              "      <td>8</td>\n",
              "      <td>MOVIE</td>\n",
              "      <td>0</td>\n",
              "      <td>0</td>\n",
              "      <td>Animation MovieThe Mermaid Princess (HD)</td>\n",
              "      <td>Animation</td>\n",
              "      <td>0</td>\n",
              "      <td>1</td>\n",
              "      <td>The Mermaid Princess</td>\n",
              "    </tr>\n",
              "    <tr>\n",
              "      <th>5</th>\n",
              "      <td>2017-07-26</td>\n",
              "      <td>19307</td>\n",
              "      <td>The Mermaid Princess</td>\n",
              "      <td>76</td>\n",
              "      <td>MOVIE</td>\n",
              "      <td>0</td>\n",
              "      <td>0</td>\n",
              "      <td>Animation MovieThe Mermaid Princess (HD)</td>\n",
              "      <td>Animation</td>\n",
              "      <td>0</td>\n",
              "      <td>1</td>\n",
              "      <td>The Mermaid Princess</td>\n",
              "    </tr>\n",
              "    <tr>\n",
              "      <th>7</th>\n",
              "      <td>2017-07-07</td>\n",
              "      <td>15860</td>\n",
              "      <td>Churchill</td>\n",
              "      <td>87</td>\n",
              "      <td>MOVIE</td>\n",
              "      <td>0</td>\n",
              "      <td>0</td>\n",
              "      <td>Biography MovieChurchill (HD)</td>\n",
              "      <td>Biography</td>\n",
              "      <td>0</td>\n",
              "      <td>1</td>\n",
              "      <td>Churchill</td>\n",
              "    </tr>\n",
              "  </tbody>\n",
              "</table>\n",
              "</div>\n",
              "      <button class=\"colab-df-convert\" onclick=\"convertToInteractive('df-9f07f313-d6e5-4aef-96b8-602a37493ec4')\"\n",
              "              title=\"Convert this dataframe to an interactive table.\"\n",
              "              style=\"display:none;\">\n",
              "        \n",
              "  <svg xmlns=\"http://www.w3.org/2000/svg\" height=\"24px\"viewBox=\"0 0 24 24\"\n",
              "       width=\"24px\">\n",
              "    <path d=\"M0 0h24v24H0V0z\" fill=\"none\"/>\n",
              "    <path d=\"M18.56 5.44l.94 2.06.94-2.06 2.06-.94-2.06-.94-.94-2.06-.94 2.06-2.06.94zm-11 1L8.5 8.5l.94-2.06 2.06-.94-2.06-.94L8.5 2.5l-.94 2.06-2.06.94zm10 10l.94 2.06.94-2.06 2.06-.94-2.06-.94-.94-2.06-.94 2.06-2.06.94z\"/><path d=\"M17.41 7.96l-1.37-1.37c-.4-.4-.92-.59-1.43-.59-.52 0-1.04.2-1.43.59L10.3 9.45l-7.72 7.72c-.78.78-.78 2.05 0 2.83L4 21.41c.39.39.9.59 1.41.59.51 0 1.02-.2 1.41-.59l7.78-7.78 2.81-2.81c.8-.78.8-2.07 0-2.86zM5.41 20L4 18.59l7.72-7.72 1.47 1.35L5.41 20z\"/>\n",
              "  </svg>\n",
              "      </button>\n",
              "      \n",
              "  <style>\n",
              "    .colab-df-container {\n",
              "      display:flex;\n",
              "      flex-wrap:wrap;\n",
              "      gap: 12px;\n",
              "    }\n",
              "\n",
              "    .colab-df-convert {\n",
              "      background-color: #E8F0FE;\n",
              "      border: none;\n",
              "      border-radius: 50%;\n",
              "      cursor: pointer;\n",
              "      display: none;\n",
              "      fill: #1967D2;\n",
              "      height: 32px;\n",
              "      padding: 0 0 0 0;\n",
              "      width: 32px;\n",
              "    }\n",
              "\n",
              "    .colab-df-convert:hover {\n",
              "      background-color: #E2EBFA;\n",
              "      box-shadow: 0px 1px 2px rgba(60, 64, 67, 0.3), 0px 1px 3px 1px rgba(60, 64, 67, 0.15);\n",
              "      fill: #174EA6;\n",
              "    }\n",
              "\n",
              "    [theme=dark] .colab-df-convert {\n",
              "      background-color: #3B4455;\n",
              "      fill: #D2E3FC;\n",
              "    }\n",
              "\n",
              "    [theme=dark] .colab-df-convert:hover {\n",
              "      background-color: #434B5C;\n",
              "      box-shadow: 0px 1px 3px 1px rgba(0, 0, 0, 0.15);\n",
              "      filter: drop-shadow(0px 1px 2px rgba(0, 0, 0, 0.3));\n",
              "      fill: #FFFFFF;\n",
              "    }\n",
              "  </style>\n",
              "\n",
              "      <script>\n",
              "        const buttonEl =\n",
              "          document.querySelector('#df-9f07f313-d6e5-4aef-96b8-602a37493ec4 button.colab-df-convert');\n",
              "        buttonEl.style.display =\n",
              "          google.colab.kernel.accessAllowed ? 'block' : 'none';\n",
              "\n",
              "        async function convertToInteractive(key) {\n",
              "          const element = document.querySelector('#df-9f07f313-d6e5-4aef-96b8-602a37493ec4');\n",
              "          const dataTable =\n",
              "            await google.colab.kernel.invokeFunction('convertToInteractive',\n",
              "                                                     [key], {});\n",
              "          if (!dataTable) return;\n",
              "\n",
              "          const docLinkHtml = 'Like what you see? Visit the ' +\n",
              "            '<a target=\"_blank\" href=https://colab.research.google.com/notebooks/data_table.ipynb>data table notebook</a>'\n",
              "            + ' to learn more about interactive tables.';\n",
              "          element.innerHTML = '';\n",
              "          dataTable['output_type'] = 'display_data';\n",
              "          await google.colab.output.renderOutput(dataTable, element);\n",
              "          const docLink = document.createElement('div');\n",
              "          docLink.innerHTML = docLinkHtml;\n",
              "          element.appendChild(docLink);\n",
              "        }\n",
              "      </script>\n",
              "    </div>\n",
              "  </div>\n",
              "  "
            ]
          },
          "metadata": {},
          "execution_count": 76
        }
      ]
    },
    {
      "cell_type": "code",
      "source": [
        "len(df.original_name.unique())"
      ],
      "metadata": {
        "colab": {
          "base_uri": "https://localhost:8080/"
        },
        "id": "kmeJQa3G8p19",
        "outputId": "59de65ba-8287-4e95-fd28-5062cbcdf6a4"
      },
      "execution_count": 77,
      "outputs": [
        {
          "output_type": "execute_result",
          "data": {
            "text/plain": [
              "1828"
            ]
          },
          "metadata": {},
          "execution_count": 77
        }
      ]
    },
    {
      "cell_type": "code",
      "source": [
        "len(df.program_name.unique())"
      ],
      "metadata": {
        "colab": {
          "base_uri": "https://localhost:8080/"
        },
        "id": "chWZLYAb85w-",
        "outputId": "c6b28d47-c6fc-4114-c7ae-ef319c6f347c"
      },
      "execution_count": 78,
      "outputs": [
        {
          "output_type": "execute_result",
          "data": {
            "text/plain": [
              "8661"
            ]
          },
          "metadata": {},
          "execution_count": 78
        }
      ]
    },
    {
      "cell_type": "code",
      "source": [
        "#to format names and keep unique names\n",
        "def standardize_text(input_text):\n",
        "    clean_text = re.sub('[^A-Za-z0-9]+', '', str(input_text))\n",
        "    return clean_text"
      ],
      "metadata": {
        "id": "C8jit4AAxM1N"
      },
      "execution_count": 79,
      "outputs": []
    },
    {
      "cell_type": "code",
      "source": [
        "df['original_name'] = df['original_name'].apply(lambda x: standardize_text(x))\n",
        "df['program_name'] = df['program_name'].apply(lambda x: standardize_text(x))"
      ],
      "metadata": {
        "id": "sqXaYqy0xO2u"
      },
      "execution_count": 80,
      "outputs": []
    },
    {
      "cell_type": "code",
      "source": [
        "len(df.original_name.unique())"
      ],
      "metadata": {
        "colab": {
          "base_uri": "https://localhost:8080/"
        },
        "id": "tYB4DLG89AdL",
        "outputId": "44197b36-ffa7-4da8-9064-e0d713071843"
      },
      "execution_count": 16,
      "outputs": [
        {
          "output_type": "execute_result",
          "data": {
            "text/plain": [
              "1795"
            ]
          },
          "metadata": {},
          "execution_count": 16
        }
      ]
    },
    {
      "cell_type": "code",
      "source": [
        "len(df.program_name.unique())"
      ],
      "metadata": {
        "colab": {
          "base_uri": "https://localhost:8080/"
        },
        "id": "CHWQbpRw9B8C",
        "outputId": "30dd8782-64f7-4205-bb1f-40853feb2bdb"
      },
      "execution_count": 17,
      "outputs": [
        {
          "output_type": "execute_result",
          "data": {
            "text/plain": [
              "8400"
            ]
          },
          "metadata": {},
          "execution_count": 17
        }
      ]
    },
    {
      "cell_type": "code",
      "source": [
        "#handling duplications by taking sum of durations for same records \n",
        "df = df.groupby(['user_id_maped','program_name','program_class','program_desc','program_genre','hd','original_name','season','episode','series_title'], as_index=False)['duration_seconds'].sum()"
      ],
      "metadata": {
        "id": "tFlvvx3WxRmC"
      },
      "execution_count": 81,
      "outputs": []
    },
    {
      "cell_type": "code",
      "source": [
        "len(df)"
      ],
      "metadata": {
        "colab": {
          "base_uri": "https://localhost:8080/"
        },
        "id": "T7Z0Teva9IR-",
        "outputId": "98fc75d1-0f31-4dad-b338-65c08b60fe45"
      },
      "execution_count": 19,
      "outputs": [
        {
          "output_type": "execute_result",
          "data": {
            "text/plain": [
              "1410287"
            ]
          },
          "metadata": {},
          "execution_count": 19
        }
      ]
    },
    {
      "cell_type": "code",
      "source": [
        "# Handling Outliers by Durations Capping to 1 Hour According to Statista.com Statistics\n",
        "df['duration_seconds'] = np.where(df.duration_seconds>=(60*60*1), (60*60*1), df.duration_seconds)"
      ],
      "metadata": {
        "id": "HIRMTmNGxTf5"
      },
      "execution_count": 82,
      "outputs": []
    },
    {
      "cell_type": "code",
      "source": [
        "# Feature binning will be treated as Ratings. \n",
        "# Because we don't have the actual duration of a program, we will use the maximum observed duration. \n",
        "df['max_duration'] = df.groupby('original_name')['duration_seconds'].transform(lambda x: x.max())\n",
        "df['Rating'] = df['duration_seconds']*10/df['max_duration']\n",
        "df['Rating'] = df['Rating'].apply(lambda x: int(x))"
      ],
      "metadata": {
        "id": "ltfUF5npxXeO"
      },
      "execution_count": 83,
      "outputs": []
    },
    {
      "cell_type": "code",
      "source": [
        "#the following tests to show the importance of the cap where without it the values will tend to be zeros\n",
        "df.Rating.value_counts() #1 hour"
      ],
      "metadata": {
        "colab": {
          "base_uri": "https://localhost:8080/"
        },
        "id": "yvD6uWhn9Sad",
        "outputId": "c3cd8a37-88b3-40d4-b881-55f99395330b"
      },
      "execution_count": 34,
      "outputs": [
        {
          "output_type": "execute_result",
          "data": {
            "text/plain": [
              "0     589451\n",
              "10    255270\n",
              "3     130294\n",
              "6      96790\n",
              "7      86361\n",
              "1      66420\n",
              "4      48211\n",
              "2      46507\n",
              "8      36528\n",
              "5      31168\n",
              "9      23287\n",
              "Name: Rating, dtype: int64"
            ]
          },
          "metadata": {},
          "execution_count": 34
        }
      ]
    },
    {
      "cell_type": "code",
      "source": [
        "df.Rating.value_counts() #2 hours"
      ],
      "metadata": {
        "colab": {
          "base_uri": "https://localhost:8080/"
        },
        "id": "fDjOUXd89Zn2",
        "outputId": "3812ba5c-1cc3-4a5c-f772-e7a95b1b8f34"
      },
      "execution_count": 47,
      "outputs": [
        {
          "output_type": "execute_result",
          "data": {
            "text/plain": [
              "0     655063\n",
              "3     183179\n",
              "1     177081\n",
              "10    108253\n",
              "2      79402\n",
              "4      59892\n",
              "5      38600\n",
              "7      34621\n",
              "6      32480\n",
              "8      22348\n",
              "9      19368\n",
              "Name: Rating, dtype: int64"
            ]
          },
          "metadata": {},
          "execution_count": 47
        }
      ]
    },
    {
      "cell_type": "code",
      "source": [
        "df.Rating.value_counts() #3 hours"
      ],
      "metadata": {
        "colab": {
          "base_uri": "https://localhost:8080/"
        },
        "id": "dDKyoklu-FMW",
        "outputId": "cad9a240-9c94-49bb-f206-fc2c04f98a4b"
      },
      "execution_count": 54,
      "outputs": [
        {
          "output_type": "execute_result",
          "data": {
            "text/plain": [
              "0     701152\n",
              "2     219752\n",
              "1     209961\n",
              "10     62306\n",
              "3      61928\n",
              "4      51249\n",
              "5      38131\n",
              "6      26946\n",
              "7      17633\n",
              "8      12042\n",
              "9       9187\n",
              "Name: Rating, dtype: int64"
            ]
          },
          "metadata": {},
          "execution_count": 54
        }
      ]
    },
    {
      "cell_type": "code",
      "source": [
        "df.Rating.value_counts() #no caps"
      ],
      "metadata": {
        "colab": {
          "base_uri": "https://localhost:8080/"
        },
        "id": "srtkZ3wq-Hqo",
        "outputId": "fa451b0b-50bc-49bb-c6f8-f628b1167392"
      },
      "execution_count": 60,
      "outputs": [
        {
          "output_type": "execute_result",
          "data": {
            "text/plain": [
              "0     1369083\n",
              "1       23298\n",
              "2        6968\n",
              "3        3365\n",
              "4        2095\n",
              "10       1790\n",
              "5        1350\n",
              "6         874\n",
              "7         603\n",
              "8         461\n",
              "9         400\n",
              "Name: Rating, dtype: int64"
            ]
          },
          "metadata": {},
          "execution_count": 60
        }
      ]
    },
    {
      "cell_type": "code",
      "source": [
        "#Adjust Undefined Genre according to IMDb \n",
        "df.loc[ df['original_name'] == 'Dunkirk', 'program_genre'] = 'Action'\n",
        "df.loc[ df['original_name'] == 'Friends', 'program_genre'] = 'Comedy'\n",
        "df.loc[ df['original_name'] == 'Harry', 'program_genre'] = 'Crime'\n",
        "df.loc[ df['original_name'] == 'SehheeWaaree', 'program_genre'] = 'Others'\n",
        "df.loc[ df['original_name'] == 'BatmanUnlimitedAnimalInstinctsforViewing', 'program_genre'] = 'Animation'"
      ],
      "metadata": {
        "id": "CXGoCbz6xYCi"
      },
      "execution_count": 84,
      "outputs": []
    },
    {
      "cell_type": "code",
      "source": [
        "df.program_genre.value_counts()"
      ],
      "metadata": {
        "colab": {
          "base_uri": "https://localhost:8080/"
        },
        "id": "rF5LOQ3gAujJ",
        "outputId": "5d56f25a-b96f-4ec6-f8d1-136c1b498691"
      },
      "execution_count": 85,
      "outputs": [
        {
          "output_type": "execute_result",
          "data": {
            "text/plain": [
              "Animation      440286\n",
              "Action         266820\n",
              "Drama          247215\n",
              "Comedy         210967\n",
              "Horror          99746\n",
              "Thriller        64316\n",
              "Family          35622\n",
              "Biography       20797\n",
              "Documentary     15930\n",
              "Crime            4520\n",
              "Sci-Fi           2713\n",
              "Romance           927\n",
              "Adventure         402\n",
              "Wrestling          26\n",
              "Name: program_genre, dtype: int64"
            ]
          },
          "metadata": {},
          "execution_count": 85
        }
      ]
    },
    {
      "cell_type": "code",
      "source": [
        "user_genres = df.groupby(['user_id_maped','program_genre'], as_index=False)['original_name'].size()\n",
        "user_genres.rename(columns = {\"program_genre\":\"preferred_program_genre\"}, inplace=True)"
      ],
      "metadata": {
        "id": "n9ASLrs5zl-d"
      },
      "execution_count": 86,
      "outputs": []
    },
    {
      "cell_type": "code",
      "source": [
        "user_genres['ranks'] = user_genres.groupby('user_id_maped')['size'].rank(ascending=False, method='first')\n",
        "user_genres = user_genres.loc[user_genres['ranks']==1]\n",
        "df = df.merge(user_genres[['user_id_maped','preferred_program_genre']])"
      ],
      "metadata": {
        "id": "JLaOWrfw0DJb"
      },
      "execution_count": 87,
      "outputs": []
    },
    {
      "cell_type": "code",
      "source": [
        "#If the preferred category of the user is Animation then we assume that the user is not an adult and vice versa\n",
        "#df['isKid'] = np.where(df.preferred_program_genre=='Animation', 1 ,0) #1 is true"
      ],
      "metadata": {
        "id": "MQyggssp0T5J"
      },
      "execution_count": 69,
      "outputs": []
    },
    {
      "cell_type": "code",
      "source": [
        "user_counts = df.groupby(['user_id_maped'], as_index=False)['original_name'].count()\n",
        "user_counts.original_name.mean()\n",
        "user_counts['isActive'] = np.where(user_counts.original_name>user_counts.original_name.mean(), 1,0)\n",
        "df = df.merge(user_counts[['user_id_maped','isActive']])\n"
      ],
      "metadata": {
        "id": "asJFLddPhHvC"
      },
      "execution_count": 88,
      "outputs": []
    },
    {
      "cell_type": "code",
      "source": [
        "movie_counts = df.groupby(['original_name'], as_index=False)['user_id_maped'].count()\n",
        "movie_counts.user_id_maped.mean()\n",
        "movie_counts['isPopular'] = np.where(movie_counts.user_id_maped>movie_counts.user_id_maped.mean(), 1,0)\n",
        "df = df.merge(movie_counts[['original_name','isPopular']])"
      ],
      "metadata": {
        "id": "PhjiMzk9iNZ4"
      },
      "execution_count": 89,
      "outputs": []
    },
    {
      "cell_type": "code",
      "source": [
        "df.isPopular.value_counts()"
      ],
      "metadata": {
        "colab": {
          "base_uri": "https://localhost:8080/"
        },
        "id": "jKGKb6j7iyqE",
        "outputId": "6bb66809-0192-4cdb-9003-f7873a129372"
      },
      "execution_count": 90,
      "outputs": [
        {
          "output_type": "execute_result",
          "data": {
            "text/plain": [
              "1    1124409\n",
              "0     285878\n",
              "Name: isPopular, dtype: int64"
            ]
          },
          "metadata": {},
          "execution_count": 90
        }
      ]
    },
    {
      "cell_type": "code",
      "source": [
        "df.isActive.value_counts()"
      ],
      "metadata": {
        "colab": {
          "base_uri": "https://localhost:8080/"
        },
        "id": "DG2LJz3n_8Ss",
        "outputId": "6a8c3fe4-b3b0-4b3f-b185-671f29475a24"
      },
      "execution_count": 91,
      "outputs": [
        {
          "output_type": "execute_result",
          "data": {
            "text/plain": [
              "1    1202983\n",
              "0     207304\n",
              "Name: isActive, dtype: int64"
            ]
          },
          "metadata": {},
          "execution_count": 91
        }
      ]
    },
    {
      "cell_type": "code",
      "source": [
        "df.preferred_program_genre.value_counts()"
      ],
      "metadata": {
        "colab": {
          "base_uri": "https://localhost:8080/"
        },
        "id": "ARPptFTPABI2",
        "outputId": "4844f8c6-6097-47c9-ce53-2d8cabe04f31"
      },
      "execution_count": 92,
      "outputs": [
        {
          "output_type": "execute_result",
          "data": {
            "text/plain": [
              "Animation      607142\n",
              "Action         309890\n",
              "Drama          247280\n",
              "Comedy         182422\n",
              "Horror          49202\n",
              "Thriller         6657\n",
              "Family           5680\n",
              "Biography        1208\n",
              "Documentary       630\n",
              "Sci-Fi             78\n",
              "Romance            70\n",
              "Crime              26\n",
              "Adventure           1\n",
              "Wrestling           1\n",
              "Name: preferred_program_genre, dtype: int64"
            ]
          },
          "metadata": {},
          "execution_count": 92
        }
      ]
    },
    {
      "cell_type": "code",
      "source": [
        "df.head()"
      ],
      "metadata": {
        "colab": {
          "base_uri": "https://localhost:8080/",
          "height": 444
        },
        "id": "bClSDWUBBA-C",
        "outputId": "72e7ea56-fe04-45b7-fc8c-0a3ded547cf6"
      },
      "execution_count": 93,
      "outputs": [
        {
          "output_type": "execute_result",
          "data": {
            "text/plain": [
              "   user_id_maped program_name program_class               program_desc  \\\n",
              "0              1     Baywatch         MOVIE  Comedy MovieBaywatch (HD)   \n",
              "1              4     Baywatch         MOVIE  Comedy MovieBaywatch (HD)   \n",
              "2              6     Baywatch         MOVIE  Comedy MovieBaywatch (HD)   \n",
              "3             14     Baywatch         MOVIE  Comedy MovieBaywatch (HD)   \n",
              "4             21     Baywatch         MOVIE  Comedy MovieBaywatch (HD)   \n",
              "\n",
              "  program_genre  hd original_name  season  episode  series_title  \\\n",
              "0        Comedy   1      Baywatch       0        0             0   \n",
              "1        Comedy   1      Baywatch       0        0             0   \n",
              "2        Comedy   1      Baywatch       0        0             0   \n",
              "3        Comedy   1      Baywatch       0        0             0   \n",
              "4        Comedy   1      Baywatch       0        0             0   \n",
              "\n",
              "   duration_seconds  max_duration  Rating preferred_program_genre  isActive  \\\n",
              "0                59          3600       0                  Action         0   \n",
              "1                26          3600       0               Animation         0   \n",
              "2                18          3600       0                  Comedy         0   \n",
              "3                 2          3600       0                  Comedy         0   \n",
              "4                13          3600       0                  Horror         0   \n",
              "\n",
              "   isPopular  \n",
              "0          1  \n",
              "1          1  \n",
              "2          1  \n",
              "3          1  \n",
              "4          1  "
            ],
            "text/html": [
              "\n",
              "  <div id=\"df-f4720faa-7adb-4b97-8a66-1e1e85c2e960\">\n",
              "    <div class=\"colab-df-container\">\n",
              "      <div>\n",
              "<style scoped>\n",
              "    .dataframe tbody tr th:only-of-type {\n",
              "        vertical-align: middle;\n",
              "    }\n",
              "\n",
              "    .dataframe tbody tr th {\n",
              "        vertical-align: top;\n",
              "    }\n",
              "\n",
              "    .dataframe thead th {\n",
              "        text-align: right;\n",
              "    }\n",
              "</style>\n",
              "<table border=\"1\" class=\"dataframe\">\n",
              "  <thead>\n",
              "    <tr style=\"text-align: right;\">\n",
              "      <th></th>\n",
              "      <th>user_id_maped</th>\n",
              "      <th>program_name</th>\n",
              "      <th>program_class</th>\n",
              "      <th>program_desc</th>\n",
              "      <th>program_genre</th>\n",
              "      <th>hd</th>\n",
              "      <th>original_name</th>\n",
              "      <th>season</th>\n",
              "      <th>episode</th>\n",
              "      <th>series_title</th>\n",
              "      <th>duration_seconds</th>\n",
              "      <th>max_duration</th>\n",
              "      <th>Rating</th>\n",
              "      <th>preferred_program_genre</th>\n",
              "      <th>isActive</th>\n",
              "      <th>isPopular</th>\n",
              "    </tr>\n",
              "  </thead>\n",
              "  <tbody>\n",
              "    <tr>\n",
              "      <th>0</th>\n",
              "      <td>1</td>\n",
              "      <td>Baywatch</td>\n",
              "      <td>MOVIE</td>\n",
              "      <td>Comedy MovieBaywatch (HD)</td>\n",
              "      <td>Comedy</td>\n",
              "      <td>1</td>\n",
              "      <td>Baywatch</td>\n",
              "      <td>0</td>\n",
              "      <td>0</td>\n",
              "      <td>0</td>\n",
              "      <td>59</td>\n",
              "      <td>3600</td>\n",
              "      <td>0</td>\n",
              "      <td>Action</td>\n",
              "      <td>0</td>\n",
              "      <td>1</td>\n",
              "    </tr>\n",
              "    <tr>\n",
              "      <th>1</th>\n",
              "      <td>4</td>\n",
              "      <td>Baywatch</td>\n",
              "      <td>MOVIE</td>\n",
              "      <td>Comedy MovieBaywatch (HD)</td>\n",
              "      <td>Comedy</td>\n",
              "      <td>1</td>\n",
              "      <td>Baywatch</td>\n",
              "      <td>0</td>\n",
              "      <td>0</td>\n",
              "      <td>0</td>\n",
              "      <td>26</td>\n",
              "      <td>3600</td>\n",
              "      <td>0</td>\n",
              "      <td>Animation</td>\n",
              "      <td>0</td>\n",
              "      <td>1</td>\n",
              "    </tr>\n",
              "    <tr>\n",
              "      <th>2</th>\n",
              "      <td>6</td>\n",
              "      <td>Baywatch</td>\n",
              "      <td>MOVIE</td>\n",
              "      <td>Comedy MovieBaywatch (HD)</td>\n",
              "      <td>Comedy</td>\n",
              "      <td>1</td>\n",
              "      <td>Baywatch</td>\n",
              "      <td>0</td>\n",
              "      <td>0</td>\n",
              "      <td>0</td>\n",
              "      <td>18</td>\n",
              "      <td>3600</td>\n",
              "      <td>0</td>\n",
              "      <td>Comedy</td>\n",
              "      <td>0</td>\n",
              "      <td>1</td>\n",
              "    </tr>\n",
              "    <tr>\n",
              "      <th>3</th>\n",
              "      <td>14</td>\n",
              "      <td>Baywatch</td>\n",
              "      <td>MOVIE</td>\n",
              "      <td>Comedy MovieBaywatch (HD)</td>\n",
              "      <td>Comedy</td>\n",
              "      <td>1</td>\n",
              "      <td>Baywatch</td>\n",
              "      <td>0</td>\n",
              "      <td>0</td>\n",
              "      <td>0</td>\n",
              "      <td>2</td>\n",
              "      <td>3600</td>\n",
              "      <td>0</td>\n",
              "      <td>Comedy</td>\n",
              "      <td>0</td>\n",
              "      <td>1</td>\n",
              "    </tr>\n",
              "    <tr>\n",
              "      <th>4</th>\n",
              "      <td>21</td>\n",
              "      <td>Baywatch</td>\n",
              "      <td>MOVIE</td>\n",
              "      <td>Comedy MovieBaywatch (HD)</td>\n",
              "      <td>Comedy</td>\n",
              "      <td>1</td>\n",
              "      <td>Baywatch</td>\n",
              "      <td>0</td>\n",
              "      <td>0</td>\n",
              "      <td>0</td>\n",
              "      <td>13</td>\n",
              "      <td>3600</td>\n",
              "      <td>0</td>\n",
              "      <td>Horror</td>\n",
              "      <td>0</td>\n",
              "      <td>1</td>\n",
              "    </tr>\n",
              "  </tbody>\n",
              "</table>\n",
              "</div>\n",
              "      <button class=\"colab-df-convert\" onclick=\"convertToInteractive('df-f4720faa-7adb-4b97-8a66-1e1e85c2e960')\"\n",
              "              title=\"Convert this dataframe to an interactive table.\"\n",
              "              style=\"display:none;\">\n",
              "        \n",
              "  <svg xmlns=\"http://www.w3.org/2000/svg\" height=\"24px\"viewBox=\"0 0 24 24\"\n",
              "       width=\"24px\">\n",
              "    <path d=\"M0 0h24v24H0V0z\" fill=\"none\"/>\n",
              "    <path d=\"M18.56 5.44l.94 2.06.94-2.06 2.06-.94-2.06-.94-.94-2.06-.94 2.06-2.06.94zm-11 1L8.5 8.5l.94-2.06 2.06-.94-2.06-.94L8.5 2.5l-.94 2.06-2.06.94zm10 10l.94 2.06.94-2.06 2.06-.94-2.06-.94-.94-2.06-.94 2.06-2.06.94z\"/><path d=\"M17.41 7.96l-1.37-1.37c-.4-.4-.92-.59-1.43-.59-.52 0-1.04.2-1.43.59L10.3 9.45l-7.72 7.72c-.78.78-.78 2.05 0 2.83L4 21.41c.39.39.9.59 1.41.59.51 0 1.02-.2 1.41-.59l7.78-7.78 2.81-2.81c.8-.78.8-2.07 0-2.86zM5.41 20L4 18.59l7.72-7.72 1.47 1.35L5.41 20z\"/>\n",
              "  </svg>\n",
              "      </button>\n",
              "      \n",
              "  <style>\n",
              "    .colab-df-container {\n",
              "      display:flex;\n",
              "      flex-wrap:wrap;\n",
              "      gap: 12px;\n",
              "    }\n",
              "\n",
              "    .colab-df-convert {\n",
              "      background-color: #E8F0FE;\n",
              "      border: none;\n",
              "      border-radius: 50%;\n",
              "      cursor: pointer;\n",
              "      display: none;\n",
              "      fill: #1967D2;\n",
              "      height: 32px;\n",
              "      padding: 0 0 0 0;\n",
              "      width: 32px;\n",
              "    }\n",
              "\n",
              "    .colab-df-convert:hover {\n",
              "      background-color: #E2EBFA;\n",
              "      box-shadow: 0px 1px 2px rgba(60, 64, 67, 0.3), 0px 1px 3px 1px rgba(60, 64, 67, 0.15);\n",
              "      fill: #174EA6;\n",
              "    }\n",
              "\n",
              "    [theme=dark] .colab-df-convert {\n",
              "      background-color: #3B4455;\n",
              "      fill: #D2E3FC;\n",
              "    }\n",
              "\n",
              "    [theme=dark] .colab-df-convert:hover {\n",
              "      background-color: #434B5C;\n",
              "      box-shadow: 0px 1px 3px 1px rgba(0, 0, 0, 0.15);\n",
              "      filter: drop-shadow(0px 1px 2px rgba(0, 0, 0, 0.3));\n",
              "      fill: #FFFFFF;\n",
              "    }\n",
              "  </style>\n",
              "\n",
              "      <script>\n",
              "        const buttonEl =\n",
              "          document.querySelector('#df-f4720faa-7adb-4b97-8a66-1e1e85c2e960 button.colab-df-convert');\n",
              "        buttonEl.style.display =\n",
              "          google.colab.kernel.accessAllowed ? 'block' : 'none';\n",
              "\n",
              "        async function convertToInteractive(key) {\n",
              "          const element = document.querySelector('#df-f4720faa-7adb-4b97-8a66-1e1e85c2e960');\n",
              "          const dataTable =\n",
              "            await google.colab.kernel.invokeFunction('convertToInteractive',\n",
              "                                                     [key], {});\n",
              "          if (!dataTable) return;\n",
              "\n",
              "          const docLinkHtml = 'Like what you see? Visit the ' +\n",
              "            '<a target=\"_blank\" href=https://colab.research.google.com/notebooks/data_table.ipynb>data table notebook</a>'\n",
              "            + ' to learn more about interactive tables.';\n",
              "          element.innerHTML = '';\n",
              "          dataTable['output_type'] = 'display_data';\n",
              "          await google.colab.output.renderOutput(dataTable, element);\n",
              "          const docLink = document.createElement('div');\n",
              "          docLink.innerHTML = docLinkHtml;\n",
              "          element.appendChild(docLink);\n",
              "        }\n",
              "      </script>\n",
              "    </div>\n",
              "  </div>\n",
              "  "
            ]
          },
          "metadata": {},
          "execution_count": 93
        }
      ]
    },
    {
      "cell_type": "code",
      "source": [
        "df.to_csv('Final_Dataset.txt')"
      ],
      "metadata": {
        "id": "fFlqCR822SOJ"
      },
      "execution_count": null,
      "outputs": []
    }
  ]
}